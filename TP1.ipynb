{
 "cells": [
  {
   "cell_type": "code",
   "execution_count": 1,
   "id": "2c9bdbd3",
   "metadata": {},
   "outputs": [
    {
     "data": {
      "text/plain": [
       "'\\nDescription: \\nVersion: 1.0\\nAutor: SHAO Nuoya\\nDate: 2021-12-03 13:46:17\\nLastEditors: SHAO Nuoya\\nLastEditTime: 2021-12-05 01:05:54\\nFilePath: \\\\EDP-in-Finance\\\\TP1.ipynb\\n'"
      ]
     },
     "execution_count": 1,
     "metadata": {},
     "output_type": "execute_result"
    }
   ],
   "source": [
    "'''\n",
    "Description: \n",
    "Version: 1.0\n",
    "Autor: SHAO Nuoya\n",
    "Date: 2021-12-03 13:46:17\n",
    "LastEditors: SHAO Nuoya\n",
    "LastEditTime: 2021-12-05 01:05:54\n",
    "FilePath: \\EDP-in-Finance\\TP1.ipynb\n",
    "'''"
   ]
  },
  {
   "cell_type": "code",
   "execution_count": 151,
   "id": "749752af",
   "metadata": {},
   "outputs": [],
   "source": [
    "import numpy as np\n",
    "import matplotlib.pyplot as plt\n",
    "import pandas as pd\n",
    "import time\n",
    "from scipy.sparse import csr_matrix as sparse\n",
    "from scipy.sparse.linalg import spsolve\n",
    "from scipy.stats import norm\n",
    "\n",
    "np.set_printoptions(suppress=True)"
   ]
  },
  {
   "cell_type": "code",
   "execution_count": 198,
   "id": "18a6f896",
   "metadata": {},
   "outputs": [],
   "source": [
    "class BS:\n",
    "    def __init__(self,\n",
    "                 K=100,\n",
    "                 S_min=0,\n",
    "                 S_max=200,\n",
    "                 T=1,\n",
    "                 sigma=0.2,\n",
    "                 r=0.1,\n",
    "                 N=10,\n",
    "                 I=10):\n",
    "        self.K = K\n",
    "        self.S_min = S_min\n",
    "        self.S_max = S_max\n",
    "        self.T = T\n",
    "        self.sigma = sigma\n",
    "        self.r = r\n",
    "        self.N = N\n",
    "        self.I = I\n",
    "\n",
    "        self.h = (S_max - S_min) / (I+1)\n",
    "        self.dt = T / N\n",
    "\n",
    "        self.S = S_min+self.h*np.arange(1,I+1).reshape(-1, 1)\n",
    "        self.Sval = np.mean(self.S)\n",
    "        self.alpha = sigma**2 * self.S**2 / (2 * self.h**2)\n",
    "        self.beta = r * self.S / (2 * self.h)\n",
    "\n",
    "    def get_A(self) -> np.ndarray:\n",
    "        I = self.I\n",
    "        A = np.zeros((I, I))\n",
    "        for i in range(I):\n",
    "            A[i, i] = 2 * self.alpha[i] + self.r\n",
    "\n",
    "        for i in range(I - 1):\n",
    "            A[i + 1, i] = -self.alpha[i + 1] + self.beta[i + 1]\n",
    "            A[i, i + 1] = -self.alpha[i] - self.beta[i]\n",
    "        return A\n",
    "\n",
    "    # Boundary condition\n",
    "    def phi(self) -> np.ndarray:\n",
    "        return np.maximum(self.K - self.S, 0).reshape(-1, 1)\n",
    "\n",
    "    def uleft(self, t: float) -> float:\n",
    "        return (-self.alpha[0] + self.beta[0]) * (self.K * np.exp(-self.r * t) -\n",
    "                                                 self.S_min)\n",
    "\n",
    "    def uright(self) -> float:\n",
    "        return 0\n",
    "\n",
    "    def get_price(self, method: str) -> np.ndarray:\n",
    "        U = self.phi()\n",
    "        q = np.zeros((self.I, 1))\n",
    "        A = self.get_A()\n",
    "        for t in range(self.N):\n",
    "            q[0] = self.uleft(t*self.dt)\n",
    "            q[-1] = self.uright()\n",
    "            if method == 'EE':\n",
    "                U = (np.eye(self.I) - self.dt * A) @ U - self.dt * q\n",
    "            if method == 'IE':\n",
    "                U = np.linalg.solve(A + np.eye(self.I) / self.dt,\n",
    "                                    np.eye(self.I) / self.dt @ U - q)\n",
    "            if method == 'CN':\n",
    "                U = np.linalg.solve(A / 2 + np.eye(self.I) / self.dt,\n",
    "                                    (-A / 2 + np.eye(self.I) / self.dt) @ U -\n",
    "                                    q)\n",
    "        return U"
   ]
  },
  {
   "cell_type": "code",
   "execution_count": 202,
   "id": "f7d6fd8e",
   "metadata": {},
   "outputs": [],
   "source": [
    "def plot(method: str, I: int, N: int) -> None:\n",
    "    bs = BS(I=I, N=N)\n",
    "    U = bs.get_price(method)\n",
    "\n",
    "    plt.plot(bs.S, U)\n",
    "    plt.plot(bs.S, bs.phi(), linestyle='--')\n",
    "    plt.title('I = {}, N = {}, K = {}'.format(bs.I, bs.N, bs.K))\n",
    "    plt.xlabel('S0')\n",
    "    plt.ylabel('Payoff')\n",
    "    plt.grid()"
   ]
  },
  {
   "cell_type": "markdown",
   "id": "dcd882e2",
   "metadata": {},
   "source": [
    "# Explicit Euler (EE) scheme"
   ]
  },
  {
   "cell_type": "markdown",
   "id": "1c3ccb45",
   "metadata": {},
   "source": [
    "## a) Test the Euler forward scheme (EE). \n",
    "First fix N = 10 and take I = 10,20,50,....Then take the following N = I values : 10,20,50,100"
   ]
  },
  {
   "cell_type": "code",
   "execution_count": 204,
   "id": "bc46cbf0",
   "metadata": {},
   "outputs": [
    {
     "data": {
      "image/png": "[encoded data removed]",
      "text/plain": [
       "<Figure size 720x720 with 4 Axes>"
      ]
     },
     "metadata": {
      "needs_background": "light"
     },
     "output_type": "display_data"
    }
   ],
   "source": [
    "Is = [10, 20, 50, 100]\n",
    "N = 10\n",
    "  \n",
    "plt.figure(figsize=(10, 10))\n",
    "for i in range(len(Is)):\n",
    "  plt.subplot(2,2,i+1)\n",
    "  I = Is[i]\n",
    "  plot('EE', I, N)"
   ]
  },
  {
   "cell_type": "code",
   "execution_count": 205,
   "id": "cdff7391",
   "metadata": {},
   "outputs": [
    {
     "data": {
      "image/png": "[encoded data removed]",
      "text/plain": [
       "<Figure size 720x720 with 4 Axes>"
      ]
     },
     "metadata": {
      "needs_background": "light"
     },
     "output_type": "display_data"
    }
   ],
   "source": [
    "  Is = [10, 20, 50, 100]\n",
    "  \n",
    "  plt.figure(figsize=(10, 10))\n",
    "  for i in range(len(Is)):\n",
    "    plt.subplot(2,2,i+1)\n",
    "    I = Is[i]\n",
    "    N = I\n",
    "    plot('EE', I, N)"
   ]
  },
  {
   "cell_type": "markdown",
   "id": "1b54e35a",
   "metadata": {},
   "source": [
    "## b) Understand the origin of the oscillations or explosion when they occur\n",
    "Fix N = 10 and I = 50, and look at the \"amplification\" matrix defined as\n",
    "$$B := Id −∆tA$$"
   ]
  },
  {
   "cell_type": "code",
   "execution_count": 206,
   "id": "7096c161",
   "metadata": {},
   "outputs": [
    {
     "name": "stdout",
     "output_type": "stream",
     "text": [
      "[[ 0.986  0.007  0.    ...  0.     0.     0.   ]\n",
      " [-0.002  0.974  0.018 ...  0.     0.     0.   ]\n",
      " [ 0.     0.003  0.954 ...  0.     0.     0.   ]\n",
      " ...\n",
      " [ 0.     0.     0.    ... -8.226  4.848  0.   ]\n",
      " [ 0.     0.     0.    ...  4.557 -8.614  5.047]\n",
      " [ 0.     0.     0.    ...  0.     4.75  -9.01 ]]\n",
      "norm_inf: 18.218\n",
      "norm_2: 16.473976044293305\n"
     ]
    }
   ],
   "source": [
    "N = 10\n",
    "I = 50\n",
    "bs = BS(N=N, I=I)\n",
    "A = bs.get_A()\n",
    "B = np.eye(A.shape[0]) - bs.dt * A\n",
    "B = np.round(B, 3)\n",
    "print(B)\n",
    "\n",
    "norm_inf = np.linalg.norm(B, np.inf)\n",
    "norm_2 = np.linalg.norm(B, 2)\n",
    "print('norm_inf: {}\\nnorm_2: {}'.format(norm_inf, norm_2))"
   ]
  },
  {
   "cell_type": "markdown",
   "id": "aececf21",
   "metadata": {},
   "source": [
    "We see clearly that the coefficients of B are not all positive and that they may have a modulus greater than 1 <br>\n",
    "When $N=10$, $I=50$, $||B||_2$ and $||B||_{\\infty}$ are larger than 1"
   ]
  },
  {
   "cell_type": "code",
   "execution_count": 157,
   "id": "57c093bb",
   "metadata": {},
   "outputs": [
    {
     "name": "stdout",
     "output_type": "stream",
     "text": [
      "[[ 0.986  0.007  0.     0.     0.     0.     0.     0.     0.     0.   ]\n",
      " [-0.002  0.974  0.018  0.     0.     0.     0.     0.     0.     0.   ]\n",
      " [ 0.     0.003  0.954  0.033  0.     0.     0.     0.     0.     0.   ]\n",
      " [ 0.     0.     0.012  0.926  0.052  0.     0.     0.     0.     0.   ]\n",
      " [ 0.     0.     0.     0.025  0.89   0.075  0.     0.     0.     0.   ]\n",
      " [ 0.     0.     0.     0.     0.042  0.846  0.102  0.     0.     0.   ]\n",
      " [ 0.     0.     0.     0.     0.     0.063  0.794  0.133  0.     0.   ]\n",
      " [ 0.     0.     0.     0.     0.     0.     0.088  0.734  0.168  0.   ]\n",
      " [ 0.     0.     0.     0.     0.     0.     0.     0.117  0.666  0.207]\n",
      " [ 0.     0.     0.     0.     0.     0.     0.     0.     0.15   0.59 ]]\n",
      "norm_inf: 0.994\n",
      "norm_2: 0.9869154650871313\n"
     ]
    }
   ],
   "source": [
    "N = 10\n",
    "I = 10\n",
    "bs = BS(N=N, I=I)\n",
    "A = bs.get_A()\n",
    "B = np.eye(A.shape[0]) - bs.dt * A\n",
    "B = np.round(B, 3)\n",
    "print(B)\n",
    "\n",
    "norm_inf = np.linalg.norm(B, np.inf)\n",
    "norm_2 = np.linalg.norm(B, 2)\n",
    "print('norm_inf: {}\\nnorm_2: {}'.format(norm_inf, norm_2))"
   ]
  },
  {
   "cell_type": "markdown",
   "id": "ad51b2d8",
   "metadata": {},
   "source": [
    "We see clearly that the coefficients of B are (almost) all positive, and smaller than 1 <br>\n",
    "When $N=10$, $I=10$, $||B||_2$ and $||B||_{\\infty}$ are smaller than 1"
   ]
  },
  {
   "cell_type": "markdown",
   "id": "7158d3c1",
   "metadata": {},
   "source": []
  },
  {
   "cell_type": "markdown",
   "id": "8dead191",
   "metadata": {},
   "source": [
    "## c) Compute the CFL number"
   ]
  },
  {
   "cell_type": "code",
   "execution_count": 158,
   "id": "ef718301",
   "metadata": {},
   "outputs": [],
   "source": [
    "def CFL(dt, h, sigma, Smax):\n",
    "    return dt * sigma**2 * Smax**2 / (h**2)\n"
   ]
  },
  {
   "cell_type": "code",
   "execution_count": 159,
   "id": "b1d52974",
   "metadata": {},
   "outputs": [
    {
     "name": "stdout",
     "output_type": "stream",
     "text": [
      "When N = 10, I = 10, mu = 0.484\n",
      "When N = 10, I = 50, mu = 10.404000000000002\n"
     ]
    }
   ],
   "source": [
    "N1 = 10\n",
    "I1 = 10\n",
    "N2 = 10\n",
    "I2 = 50\n",
    "bs1 = BS(N=N1, I=I1)\n",
    "bs2 = BS(N=N2, I=I2)\n",
    "CFL1 = CFL(bs1.dt, bs1.h, bs1.sigma, bs1.S_max)\n",
    "CFL2 = CFL(bs2.dt, bs2.h, bs2.sigma, bs2.S_max)\n",
    "print('When N = 10, I = 10, mu = {}\\nWhen N = 10, I = 50, mu = {}'.format(\n",
    "    CFL1, CFL2))\n"
   ]
  },
  {
   "cell_type": "markdown",
   "id": "decd5b6e",
   "metadata": {},
   "source": [
    "Hence there is no stability problem when $\\mu$ is sufficiently small."
   ]
  },
  {
   "cell_type": "markdown",
   "id": "3907742e",
   "metadata": {},
   "source": [
    "## d)  Compute the P1-interpolated value at $\\overline{s}$ = 90"
   ]
  },
  {
   "cell_type": "code",
   "execution_count": 160,
   "id": "21b64e97",
   "metadata": {},
   "outputs": [],
   "source": [
    "def P1(s_bar, bs, method):\n",
    "    U = bs.get_price(method)\n",
    "\n",
    "    for i in range(len(bs.S)):\n",
    "        if bs.S[i] <= s_bar and bs.S[i + 1] >= s_bar:\n",
    "            index = i\n",
    "            break\n",
    "    s_i = bs.S[index]\n",
    "    s_ii = bs.S[index + 1]\n",
    "    P1_S = (s_ii - s_bar) * U[index] / bs.h + (s_bar - s_i) * U[index +\n",
    "                                                                1] / bs.h\n",
    "\n",
    "    return P1_S[0]"
   ]
  },
  {
   "cell_type": "code",
   "execution_count": 161,
   "id": "1d3c70ff",
   "metadata": {},
   "outputs": [
    {
     "name": "stdout",
     "output_type": "stream",
     "text": [
      "When N = 10, I = 10, PI approximation = 7.558797483776103\n"
     ]
    }
   ],
   "source": [
    "N = I = 10\n",
    "s_bar = 90\n",
    "bs = BS(N=N, I=I)\n",
    "P1_S = P1(s_bar, bs, 'EE')\n",
    "print('When N = {}, I = {}, PI approximation = {}'.format(N, I, P1_S))"
   ]
  },
  {
   "cell_type": "markdown",
   "id": "665f3a87",
   "metadata": {},
   "source": [
    "## e) Numerical order of the scheme"
   ]
  },
  {
   "cell_type": "code",
   "execution_count": 162,
   "id": "815115dd",
   "metadata": {},
   "outputs": [],
   "source": [
    "def dic() -> dict:\n",
    "    dic = {'I': [], 'N': [], 'U(s_)': [], 'e_k': [], 'order_alpha_k': []}\n",
    "    return dic\n",
    "\n",
    "\n",
    "def get_order_alpha(e_k_1, e_k, h_k_1, h_k) -> float:\n",
    "    return np.log(e_k_1 / e_k) / np.log(h_k_1 / h_k)\n"
   ]
  },
  {
   "cell_type": "markdown",
   "id": "eaec1385",
   "metadata": {},
   "source": [
    "### N=I"
   ]
  },
  {
   "cell_type": "code",
   "execution_count": 163,
   "id": "b9dfcfd5",
   "metadata": {},
   "outputs": [
    {
     "data": {
      "text/html": [
       "<div>\n",
       "<style scoped>\n",
       "    .dataframe tbody tr th:only-of-type {\n",
       "        vertical-align: middle;\n",
       "    }\n",
       "\n",
       "    .dataframe tbody tr th {\n",
       "        vertical-align: top;\n",
       "    }\n",
       "\n",
       "    .dataframe thead th {\n",
       "        text-align: right;\n",
       "    }\n",
       "</style>\n",
       "<table border=\"1\" class=\"dataframe\">\n",
       "  <thead>\n",
       "    <tr style=\"text-align: right;\">\n",
       "      <th></th>\n",
       "      <th>I</th>\n",
       "      <th>N</th>\n",
       "      <th>U(s_)</th>\n",
       "      <th>e_k</th>\n",
       "      <th>order_alpha_k</th>\n",
       "    </tr>\n",
       "  </thead>\n",
       "  <tbody>\n",
       "    <tr>\n",
       "      <th>0</th>\n",
       "      <td>10</td>\n",
       "      <td>10</td>\n",
       "      <td>1.425510e+01</td>\n",
       "      <td>NaN</td>\n",
       "      <td>NaN</td>\n",
       "    </tr>\n",
       "    <tr>\n",
       "      <th>1</th>\n",
       "      <td>20</td>\n",
       "      <td>20</td>\n",
       "      <td>1.351532e+01</td>\n",
       "      <td>-7.397800e-01</td>\n",
       "      <td>NaN</td>\n",
       "    </tr>\n",
       "    <tr>\n",
       "      <th>2</th>\n",
       "      <td>40</td>\n",
       "      <td>40</td>\n",
       "      <td>1.332033e+01</td>\n",
       "      <td>-1.949900e-01</td>\n",
       "      <td>1.99300</td>\n",
       "    </tr>\n",
       "    <tr>\n",
       "      <th>3</th>\n",
       "      <td>80</td>\n",
       "      <td>80</td>\n",
       "      <td>-1.061474e+04</td>\n",
       "      <td>-1.062806e+04</td>\n",
       "      <td>-16.01768</td>\n",
       "    </tr>\n",
       "    <tr>\n",
       "      <th>4</th>\n",
       "      <td>160</td>\n",
       "      <td>160</td>\n",
       "      <td>-8.121408e+69</td>\n",
       "      <td>-8.121408e+69</td>\n",
       "      <td>-220.83190</td>\n",
       "    </tr>\n",
       "  </tbody>\n",
       "</table>\n",
       "</div>"
      ],
      "text/plain": [
       "     I    N         U(s_)           e_k  order_alpha_k\n",
       "0   10   10  1.425510e+01           NaN            NaN\n",
       "1   20   20  1.351532e+01 -7.397800e-01            NaN\n",
       "2   40   40  1.332033e+01 -1.949900e-01        1.99300\n",
       "3   80   80 -1.061474e+04 -1.062806e+04      -16.01768\n",
       "4  160  160 -8.121408e+69 -8.121408e+69     -220.83190"
      ]
     },
     "execution_count": 163,
     "metadata": {},
     "output_type": "execute_result"
    }
   ],
   "source": [
    "values = [10, 20, 40, 80, 160]\n",
    "s_ = 80\n",
    "hs = []\n",
    "\n",
    "dictionary = dic()\n",
    "dictionary['e_k'].append(None)\n",
    "dictionary['order_alpha_k'].extend([None, None])\n",
    "\n",
    "for i in range(len(values)):\n",
    "    N = I = values[i]\n",
    "    bs = BS(N=N, I=I)\n",
    "    U_s = P1(s_, bs, 'EE')\n",
    "    hs.append(bs.h)\n",
    "    dictionary['I'].append(I)\n",
    "    dictionary['N'].append(N)\n",
    "    dictionary['U(s_)'].append(U_s)\n",
    "    if i > 0:\n",
    "        dictionary['e_k'].append(dictionary['U(s_)'][i] -\n",
    "                                 dictionary['U(s_)'][i - 1])\n",
    "    if i > 1:\n",
    "        e_k_1, e_k = dictionary['e_k'][i - 1:i + 1]\n",
    "        h_k_1, h_k = hs[i - 1:i + 1]\n",
    "        dictionary['order_alpha_k'].append(\n",
    "            get_order_alpha(e_k_1, e_k, h_k_1, h_k))\n",
    "\n",
    "df = pd.DataFrame.from_dict(dictionary)\n",
    "df.round(5)"
   ]
  },
  {
   "cell_type": "markdown",
   "id": "14b6fcd0",
   "metadata": {},
   "source": [
    "### N=$I^2$/10"
   ]
  },
  {
   "cell_type": "code",
   "execution_count": 164,
   "id": "abc3426f",
   "metadata": {},
   "outputs": [
    {
     "data": {
      "text/html": [
       "<div>\n",
       "<style scoped>\n",
       "    .dataframe tbody tr th:only-of-type {\n",
       "        vertical-align: middle;\n",
       "    }\n",
       "\n",
       "    .dataframe tbody tr th {\n",
       "        vertical-align: top;\n",
       "    }\n",
       "\n",
       "    .dataframe thead th {\n",
       "        text-align: right;\n",
       "    }\n",
       "</style>\n",
       "<table border=\"1\" class=\"dataframe\">\n",
       "  <thead>\n",
       "    <tr style=\"text-align: right;\">\n",
       "      <th></th>\n",
       "      <th>I</th>\n",
       "      <th>N</th>\n",
       "      <th>U(s_)</th>\n",
       "      <th>e_k</th>\n",
       "      <th>order_alpha_k</th>\n",
       "    </tr>\n",
       "  </thead>\n",
       "  <tbody>\n",
       "    <tr>\n",
       "      <th>0</th>\n",
       "      <td>10</td>\n",
       "      <td>10</td>\n",
       "      <td>14.25510</td>\n",
       "      <td>NaN</td>\n",
       "      <td>NaN</td>\n",
       "    </tr>\n",
       "    <tr>\n",
       "      <th>1</th>\n",
       "      <td>20</td>\n",
       "      <td>40</td>\n",
       "      <td>13.54763</td>\n",
       "      <td>-0.70746</td>\n",
       "      <td>NaN</td>\n",
       "    </tr>\n",
       "    <tr>\n",
       "      <th>2</th>\n",
       "      <td>40</td>\n",
       "      <td>160</td>\n",
       "      <td>13.34511</td>\n",
       "      <td>-0.20253</td>\n",
       "      <td>1.86953</td>\n",
       "    </tr>\n",
       "    <tr>\n",
       "      <th>3</th>\n",
       "      <td>80</td>\n",
       "      <td>640</td>\n",
       "      <td>13.29193</td>\n",
       "      <td>-0.05318</td>\n",
       "      <td>1.96406</td>\n",
       "    </tr>\n",
       "    <tr>\n",
       "      <th>4</th>\n",
       "      <td>160</td>\n",
       "      <td>2560</td>\n",
       "      <td>13.27828</td>\n",
       "      <td>-0.01365</td>\n",
       "      <td>1.97994</td>\n",
       "    </tr>\n",
       "    <tr>\n",
       "      <th>5</th>\n",
       "      <td>320</td>\n",
       "      <td>10240</td>\n",
       "      <td>13.27483</td>\n",
       "      <td>-0.00346</td>\n",
       "      <td>1.98903</td>\n",
       "    </tr>\n",
       "  </tbody>\n",
       "</table>\n",
       "</div>"
      ],
      "text/plain": [
       "     I      N     U(s_)      e_k  order_alpha_k\n",
       "0   10     10  14.25510      NaN            NaN\n",
       "1   20     40  13.54763 -0.70746            NaN\n",
       "2   40    160  13.34511 -0.20253        1.86953\n",
       "3   80    640  13.29193 -0.05318        1.96406\n",
       "4  160   2560  13.27828 -0.01365        1.97994\n",
       "5  320  10240  13.27483 -0.00346        1.98903"
      ]
     },
     "execution_count": 164,
     "metadata": {},
     "output_type": "execute_result"
    }
   ],
   "source": [
    "Is = [10, 20, 40, 80, 160, 320]\n",
    "s_ = 80\n",
    "hs = []\n",
    "\n",
    "dictionary = dic()\n",
    "dictionary['e_k'].append(None)\n",
    "dictionary['order_alpha_k'].extend([None, None])\n",
    "\n",
    "for i in range(len(Is)):\n",
    "    I = Is[i]\n",
    "    N = I**2 // 10\n",
    "    bs = BS(N=N, I=I)\n",
    "    U_s = P1(s_, bs, 'EE')\n",
    "    hs.append(bs.h)\n",
    "    dictionary['I'].append(I)\n",
    "    dictionary['N'].append(N)\n",
    "    dictionary['U(s_)'].append(U_s)\n",
    "    if i > 0:\n",
    "        dictionary['e_k'].append(dictionary['U(s_)'][i] -\n",
    "                                 dictionary['U(s_)'][i - 1])\n",
    "    if i > 1:\n",
    "        e_k_1, e_k = dictionary['e_k'][i - 1:i + 1]\n",
    "        h_k_1, h_k = hs[i - 1:i + 1]\n",
    "        dictionary['order_alpha_k'].append(\n",
    "            get_order_alpha(e_k_1, e_k, h_k_1, h_k))\n",
    "\n",
    "df = pd.DataFrame.from_dict(dictionary)\n",
    "df.round(5)"
   ]
  },
  {
   "cell_type": "markdown",
   "id": "43a39245",
   "metadata": {},
   "source": [
    "# Implicit Euler (IE) scheme"
   ]
  },
  {
   "cell_type": "markdown",
   "id": "f04e534b",
   "metadata": {},
   "source": [
    "## a) Check that with the IE scheme there is no more stability problems"
   ]
  },
  {
   "cell_type": "code",
   "execution_count": 165,
   "id": "4ae4011f",
   "metadata": {},
   "outputs": [
    {
     "data": {
      "image/png": "[encoded data removed]",
      "text/plain": [
       "<Figure size 720x720 with 4 Axes>"
      ]
     },
     "metadata": {
      "needs_background": "light"
     },
     "output_type": "display_data"
    }
   ],
   "source": [
    "  Is = [10, 20, 50, 100]\n",
    "  N = 10\n",
    "  \n",
    "  plt.figure(figsize=(10, 10))\n",
    "  for i in range(len(Is)):\n",
    "    plt.subplot(2,2,i+1)\n",
    "    I = Is[i]\n",
    "    plot('IE', I, N)"
   ]
  },
  {
   "cell_type": "markdown",
   "id": "05bc4f08",
   "metadata": {},
   "source": [
    "We see clearly that with the IE scheme there is no more stability problems"
   ]
  },
  {
   "cell_type": "markdown",
   "id": "3f38b02e",
   "metadata": {},
   "source": [
    "## b) Draw the corresponding table with N = I and with N = I/10"
   ]
  },
  {
   "cell_type": "markdown",
   "id": "dd34142e",
   "metadata": {},
   "source": [
    "### N=I"
   ]
  },
  {
   "cell_type": "code",
   "execution_count": 166,
   "id": "0a436850",
   "metadata": {},
   "outputs": [
    {
     "data": {
      "text/html": [
       "<div>\n",
       "<style scoped>\n",
       "    .dataframe tbody tr th:only-of-type {\n",
       "        vertical-align: middle;\n",
       "    }\n",
       "\n",
       "    .dataframe tbody tr th {\n",
       "        vertical-align: top;\n",
       "    }\n",
       "\n",
       "    .dataframe thead th {\n",
       "        text-align: right;\n",
       "    }\n",
       "</style>\n",
       "<table border=\"1\" class=\"dataframe\">\n",
       "  <thead>\n",
       "    <tr style=\"text-align: right;\">\n",
       "      <th></th>\n",
       "      <th>I</th>\n",
       "      <th>N</th>\n",
       "      <th>U(s_)</th>\n",
       "      <th>e_k</th>\n",
       "      <th>order_alpha_k</th>\n",
       "    </tr>\n",
       "  </thead>\n",
       "  <tbody>\n",
       "    <tr>\n",
       "      <th>0</th>\n",
       "      <td>10</td>\n",
       "      <td>10</td>\n",
       "      <td>14.44841</td>\n",
       "      <td>NaN</td>\n",
       "      <td>NaN</td>\n",
       "    </tr>\n",
       "    <tr>\n",
       "      <th>1</th>\n",
       "      <td>20</td>\n",
       "      <td>20</td>\n",
       "      <td>13.64216</td>\n",
       "      <td>-0.80626</td>\n",
       "      <td>NaN</td>\n",
       "    </tr>\n",
       "    <tr>\n",
       "      <th>2</th>\n",
       "      <td>40</td>\n",
       "      <td>40</td>\n",
       "      <td>13.38614</td>\n",
       "      <td>-0.25601</td>\n",
       "      <td>1.71462</td>\n",
       "    </tr>\n",
       "    <tr>\n",
       "      <th>3</th>\n",
       "      <td>80</td>\n",
       "      <td>80</td>\n",
       "      <td>13.31050</td>\n",
       "      <td>-0.07564</td>\n",
       "      <td>1.79066</td>\n",
       "    </tr>\n",
       "    <tr>\n",
       "      <th>4</th>\n",
       "      <td>160</td>\n",
       "      <td>160</td>\n",
       "      <td>13.28707</td>\n",
       "      <td>-0.02344</td>\n",
       "      <td>1.70570</td>\n",
       "    </tr>\n",
       "    <tr>\n",
       "      <th>5</th>\n",
       "      <td>320</td>\n",
       "      <td>320</td>\n",
       "      <td>13.27909</td>\n",
       "      <td>-0.00798</td>\n",
       "      <td>1.56179</td>\n",
       "    </tr>\n",
       "  </tbody>\n",
       "</table>\n",
       "</div>"
      ],
      "text/plain": [
       "     I    N     U(s_)      e_k  order_alpha_k\n",
       "0   10   10  14.44841      NaN            NaN\n",
       "1   20   20  13.64216 -0.80626            NaN\n",
       "2   40   40  13.38614 -0.25601        1.71462\n",
       "3   80   80  13.31050 -0.07564        1.79066\n",
       "4  160  160  13.28707 -0.02344        1.70570\n",
       "5  320  320  13.27909 -0.00798        1.56179"
      ]
     },
     "execution_count": 166,
     "metadata": {},
     "output_type": "execute_result"
    }
   ],
   "source": [
    "values = [10, 20, 40, 80, 160, 320]\n",
    "s_ = 80\n",
    "hs = []\n",
    "\n",
    "dictionary = dic()\n",
    "dictionary['e_k'].append(None)\n",
    "dictionary['order_alpha_k'].extend([None, None])\n",
    "\n",
    "for i in range(len(values)):\n",
    "    N = I = values[i]\n",
    "    bs = BS(N=N, I=I)\n",
    "    U_s = P1(s_, bs, 'IE')\n",
    "    hs.append(bs.h)\n",
    "    dictionary['I'].append(I)\n",
    "    dictionary['N'].append(N)\n",
    "    dictionary['U(s_)'].append(U_s)\n",
    "    if i > 0:\n",
    "        dictionary['e_k'].append(dictionary['U(s_)'][i] -\n",
    "                                 dictionary['U(s_)'][i - 1])\n",
    "    if i > 1:\n",
    "        e_k_1, e_k = dictionary['e_k'][i - 1:i + 1]\n",
    "        h_k_1, h_k = hs[i - 1:i + 1]\n",
    "        dictionary['order_alpha_k'].append(\n",
    "            get_order_alpha(e_k_1, e_k, h_k_1, h_k))\n",
    "\n",
    "df = pd.DataFrame.from_dict(dictionary)\n",
    "df.round(5)"
   ]
  },
  {
   "cell_type": "markdown",
   "id": "dcd8c268",
   "metadata": {},
   "source": [
    "### N=I/10"
   ]
  },
  {
   "cell_type": "code",
   "execution_count": 167,
   "id": "1ec33b37",
   "metadata": {},
   "outputs": [
    {
     "data": {
      "text/html": [
       "<div>\n",
       "<style scoped>\n",
       "    .dataframe tbody tr th:only-of-type {\n",
       "        vertical-align: middle;\n",
       "    }\n",
       "\n",
       "    .dataframe tbody tr th {\n",
       "        vertical-align: top;\n",
       "    }\n",
       "\n",
       "    .dataframe thead th {\n",
       "        text-align: right;\n",
       "    }\n",
       "</style>\n",
       "<table border=\"1\" class=\"dataframe\">\n",
       "  <thead>\n",
       "    <tr style=\"text-align: right;\">\n",
       "      <th></th>\n",
       "      <th>I</th>\n",
       "      <th>N</th>\n",
       "      <th>U(s_)</th>\n",
       "      <th>e_k</th>\n",
       "      <th>order_alpha_k</th>\n",
       "    </tr>\n",
       "  </thead>\n",
       "  <tbody>\n",
       "    <tr>\n",
       "      <th>0</th>\n",
       "      <td>10</td>\n",
       "      <td>1</td>\n",
       "      <td>15.11567</td>\n",
       "      <td>NaN</td>\n",
       "      <td>NaN</td>\n",
       "    </tr>\n",
       "    <tr>\n",
       "      <th>1</th>\n",
       "      <td>20</td>\n",
       "      <td>2</td>\n",
       "      <td>14.13569</td>\n",
       "      <td>-0.97999</td>\n",
       "      <td>NaN</td>\n",
       "    </tr>\n",
       "    <tr>\n",
       "      <th>2</th>\n",
       "      <td>40</td>\n",
       "      <td>4</td>\n",
       "      <td>13.66782</td>\n",
       "      <td>-0.46786</td>\n",
       "      <td>1.10510</td>\n",
       "    </tr>\n",
       "    <tr>\n",
       "      <th>3</th>\n",
       "      <td>80</td>\n",
       "      <td>8</td>\n",
       "      <td>13.45669</td>\n",
       "      <td>-0.21113</td>\n",
       "      <td>1.16863</td>\n",
       "    </tr>\n",
       "    <tr>\n",
       "      <th>4</th>\n",
       "      <td>160</td>\n",
       "      <td>16</td>\n",
       "      <td>13.36098</td>\n",
       "      <td>-0.09571</td>\n",
       "      <td>1.15172</td>\n",
       "    </tr>\n",
       "    <tr>\n",
       "      <th>5</th>\n",
       "      <td>320</td>\n",
       "      <td>32</td>\n",
       "      <td>13.31620</td>\n",
       "      <td>-0.04479</td>\n",
       "      <td>1.10047</td>\n",
       "    </tr>\n",
       "  </tbody>\n",
       "</table>\n",
       "</div>"
      ],
      "text/plain": [
       "     I   N     U(s_)      e_k  order_alpha_k\n",
       "0   10   1  15.11567      NaN            NaN\n",
       "1   20   2  14.13569 -0.97999            NaN\n",
       "2   40   4  13.66782 -0.46786        1.10510\n",
       "3   80   8  13.45669 -0.21113        1.16863\n",
       "4  160  16  13.36098 -0.09571        1.15172\n",
       "5  320  32  13.31620 -0.04479        1.10047"
      ]
     },
     "execution_count": 167,
     "metadata": {},
     "output_type": "execute_result"
    }
   ],
   "source": [
    "Is = [10, 20, 40, 80, 160, 320]\n",
    "s_ = 80\n",
    "hs = []\n",
    "\n",
    "dictionary = dic()\n",
    "dictionary['e_k'].append(None)\n",
    "dictionary['order_alpha_k'].extend([None, None])\n",
    "\n",
    "for i in range(len(Is)):\n",
    "    I = Is[i]\n",
    "    N = I // 10\n",
    "    bs = BS(N=N, I=I)\n",
    "    U_s = P1(s_, bs, 'IE')\n",
    "    hs.append(bs.h)\n",
    "    dictionary['I'].append(I)\n",
    "    dictionary['N'].append(N)\n",
    "    dictionary['U(s_)'].append(U_s)\n",
    "    if i > 0:\n",
    "        dictionary['e_k'].append(dictionary['U(s_)'][i] -\n",
    "                                 dictionary['U(s_)'][i - 1])\n",
    "    if i > 1:\n",
    "        e_k_1, e_k = dictionary['e_k'][i - 1:i + 1]\n",
    "        h_k_1, h_k = hs[i - 1:i + 1]\n",
    "        dictionary['order_alpha_k'].append(\n",
    "            get_order_alpha(e_k_1, e_k, h_k_1, h_k))\n",
    "\n",
    "df = pd.DataFrame.from_dict(dictionary)\n",
    "df.round(5)"
   ]
  },
  {
   "cell_type": "markdown",
   "id": "8223d987",
   "metadata": {},
   "source": [
    "# Crank-Nicolson scheme"
   ]
  },
  {
   "cell_type": "markdown",
   "id": "04f8a75e",
   "metadata": {},
   "source": [
    "## a) Program the Crank-Nicolson scheme (CN)"
   ]
  },
  {
   "cell_type": "markdown",
   "id": "77be8b58",
   "metadata": {},
   "source": [
    "$$(\\frac{A}{2}+\\frac{Id}{dt})*U^{n+1} = (\\frac{-A}{2}+\\frac{Id}{dt})*U^n-q_n$$"
   ]
  },
  {
   "cell_type": "code",
   "execution_count": 168,
   "id": "8e63d978",
   "metadata": {},
   "outputs": [
    {
     "data": {
      "image/png": "[encoded data removed]",
      "text/plain": [
       "<Figure size 720x720 with 4 Axes>"
      ]
     },
     "metadata": {
      "needs_background": "light"
     },
     "output_type": "display_data"
    }
   ],
   "source": [
    "  Is = [10, 20, 50, 100]\n",
    "  N = 10\n",
    "  \n",
    "  plt.figure(figsize=(10, 10))\n",
    "  for i in range(len(Is)):\n",
    "    plt.subplot(2,2,i+1)\n",
    "    I = Is[i]\n",
    "    plot('CN', I, N)"
   ]
  },
  {
   "cell_type": "markdown",
   "id": "fea5977f",
   "metadata": {},
   "source": [
    "## b) Draw the corresponding table with N = I and N = I/10"
   ]
  },
  {
   "cell_type": "markdown",
   "id": "79239ab4",
   "metadata": {},
   "source": [
    "### N=I"
   ]
  },
  {
   "cell_type": "code",
   "execution_count": 169,
   "id": "ceef4785",
   "metadata": {},
   "outputs": [
    {
     "data": {
      "text/html": [
       "<div>\n",
       "<style scoped>\n",
       "    .dataframe tbody tr th:only-of-type {\n",
       "        vertical-align: middle;\n",
       "    }\n",
       "\n",
       "    .dataframe tbody tr th {\n",
       "        vertical-align: top;\n",
       "    }\n",
       "\n",
       "    .dataframe thead th {\n",
       "        text-align: right;\n",
       "    }\n",
       "</style>\n",
       "<table border=\"1\" class=\"dataframe\">\n",
       "  <thead>\n",
       "    <tr style=\"text-align: right;\">\n",
       "      <th></th>\n",
       "      <th>I</th>\n",
       "      <th>N</th>\n",
       "      <th>U(s_)</th>\n",
       "      <th>e_k</th>\n",
       "      <th>order_alpha_k</th>\n",
       "    </tr>\n",
       "  </thead>\n",
       "  <tbody>\n",
       "    <tr>\n",
       "      <th>0</th>\n",
       "      <td>10</td>\n",
       "      <td>10</td>\n",
       "      <td>14.35346</td>\n",
       "      <td>NaN</td>\n",
       "      <td>NaN</td>\n",
       "    </tr>\n",
       "    <tr>\n",
       "      <th>1</th>\n",
       "      <td>20</td>\n",
       "      <td>20</td>\n",
       "      <td>13.57889</td>\n",
       "      <td>-0.77456</td>\n",
       "      <td>NaN</td>\n",
       "    </tr>\n",
       "    <tr>\n",
       "      <th>2</th>\n",
       "      <td>40</td>\n",
       "      <td>40</td>\n",
       "      <td>13.35314</td>\n",
       "      <td>-0.22575</td>\n",
       "      <td>1.84271</td>\n",
       "    </tr>\n",
       "    <tr>\n",
       "      <th>3</th>\n",
       "      <td>80</td>\n",
       "      <td>80</td>\n",
       "      <td>13.29394</td>\n",
       "      <td>-0.05920</td>\n",
       "      <td>1.96599</td>\n",
       "    </tr>\n",
       "    <tr>\n",
       "      <th>4</th>\n",
       "      <td>160</td>\n",
       "      <td>160</td>\n",
       "      <td>13.27879</td>\n",
       "      <td>-0.01516</td>\n",
       "      <td>1.98327</td>\n",
       "    </tr>\n",
       "    <tr>\n",
       "      <th>5</th>\n",
       "      <td>320</td>\n",
       "      <td>320</td>\n",
       "      <td>13.27495</td>\n",
       "      <td>-0.00384</td>\n",
       "      <td>1.99092</td>\n",
       "    </tr>\n",
       "  </tbody>\n",
       "</table>\n",
       "</div>"
      ],
      "text/plain": [
       "     I    N     U(s_)      e_k  order_alpha_k\n",
       "0   10   10  14.35346      NaN            NaN\n",
       "1   20   20  13.57889 -0.77456            NaN\n",
       "2   40   40  13.35314 -0.22575        1.84271\n",
       "3   80   80  13.29394 -0.05920        1.96599\n",
       "4  160  160  13.27879 -0.01516        1.98327\n",
       "5  320  320  13.27495 -0.00384        1.99092"
      ]
     },
     "execution_count": 169,
     "metadata": {},
     "output_type": "execute_result"
    }
   ],
   "source": [
    "values = [10, 20, 40, 80, 160, 320]\n",
    "s_ = 80\n",
    "hs = []\n",
    "\n",
    "dictionary = dic()\n",
    "dictionary['e_k'].append(None)\n",
    "dictionary['order_alpha_k'].extend([None, None])\n",
    "\n",
    "for i in range(len(values)):\n",
    "    N = I = values[i]\n",
    "    bs = BS(N=N, I=I)\n",
    "    U_s = P1(s_, bs, 'CN')\n",
    "    hs.append(bs.h)\n",
    "    dictionary['I'].append(I)\n",
    "    dictionary['N'].append(N)\n",
    "    dictionary['U(s_)'].append(U_s)\n",
    "    if i > 0:\n",
    "        dictionary['e_k'].append(dictionary['U(s_)'][i] -\n",
    "                                 dictionary['U(s_)'][i - 1])\n",
    "    if i > 1:\n",
    "        e_k_1, e_k = dictionary['e_k'][i - 1:i + 1]\n",
    "        h_k_1, h_k = hs[i - 1:i + 1]\n",
    "        dictionary['order_alpha_k'].append(\n",
    "            get_order_alpha(e_k_1, e_k, h_k_1, h_k))\n",
    "\n",
    "df = pd.DataFrame.from_dict(dictionary)\n",
    "df.round(5)"
   ]
  },
  {
   "cell_type": "markdown",
   "id": "aaf1ee07",
   "metadata": {},
   "source": [
    "### N=I/10"
   ]
  },
  {
   "cell_type": "code",
   "execution_count": 170,
   "id": "10ed8e52",
   "metadata": {},
   "outputs": [
    {
     "data": {
      "text/html": [
       "<div>\n",
       "<style scoped>\n",
       "    .dataframe tbody tr th:only-of-type {\n",
       "        vertical-align: middle;\n",
       "    }\n",
       "\n",
       "    .dataframe tbody tr th {\n",
       "        vertical-align: top;\n",
       "    }\n",
       "\n",
       "    .dataframe thead th {\n",
       "        text-align: right;\n",
       "    }\n",
       "</style>\n",
       "<table border=\"1\" class=\"dataframe\">\n",
       "  <thead>\n",
       "    <tr style=\"text-align: right;\">\n",
       "      <th></th>\n",
       "      <th>I</th>\n",
       "      <th>N</th>\n",
       "      <th>U(s_)</th>\n",
       "      <th>e_k</th>\n",
       "      <th>order_alpha_k</th>\n",
       "    </tr>\n",
       "  </thead>\n",
       "  <tbody>\n",
       "    <tr>\n",
       "      <th>0</th>\n",
       "      <td>10</td>\n",
       "      <td>1</td>\n",
       "      <td>14.23047</td>\n",
       "      <td>NaN</td>\n",
       "      <td>NaN</td>\n",
       "    </tr>\n",
       "    <tr>\n",
       "      <th>1</th>\n",
       "      <td>20</td>\n",
       "      <td>2</td>\n",
       "      <td>13.50618</td>\n",
       "      <td>-0.72429</td>\n",
       "      <td>NaN</td>\n",
       "    </tr>\n",
       "    <tr>\n",
       "      <th>2</th>\n",
       "      <td>40</td>\n",
       "      <td>4</td>\n",
       "      <td>13.33478</td>\n",
       "      <td>-0.17140</td>\n",
       "      <td>2.15412</td>\n",
       "    </tr>\n",
       "    <tr>\n",
       "      <th>3</th>\n",
       "      <td>80</td>\n",
       "      <td>8</td>\n",
       "      <td>13.28880</td>\n",
       "      <td>-0.04598</td>\n",
       "      <td>1.93232</td>\n",
       "    </tr>\n",
       "    <tr>\n",
       "      <th>4</th>\n",
       "      <td>160</td>\n",
       "      <td>16</td>\n",
       "      <td>13.27749</td>\n",
       "      <td>-0.01131</td>\n",
       "      <td>2.04224</td>\n",
       "    </tr>\n",
       "    <tr>\n",
       "      <th>5</th>\n",
       "      <td>320</td>\n",
       "      <td>32</td>\n",
       "      <td>13.27463</td>\n",
       "      <td>-0.00287</td>\n",
       "      <td>1.98931</td>\n",
       "    </tr>\n",
       "  </tbody>\n",
       "</table>\n",
       "</div>"
      ],
      "text/plain": [
       "     I   N     U(s_)      e_k  order_alpha_k\n",
       "0   10   1  14.23047      NaN            NaN\n",
       "1   20   2  13.50618 -0.72429            NaN\n",
       "2   40   4  13.33478 -0.17140        2.15412\n",
       "3   80   8  13.28880 -0.04598        1.93232\n",
       "4  160  16  13.27749 -0.01131        2.04224\n",
       "5  320  32  13.27463 -0.00287        1.98931"
      ]
     },
     "execution_count": 170,
     "metadata": {},
     "output_type": "execute_result"
    }
   ],
   "source": [
    "Is = [10, 20, 40, 80, 160, 320]\n",
    "s_ = 80\n",
    "hs = []\n",
    "\n",
    "dictionary = dic()\n",
    "dictionary['e_k'].append(None)\n",
    "dictionary['order_alpha_k'].extend([None, None])\n",
    "\n",
    "for i in range(len(Is)):\n",
    "    I = Is[i]\n",
    "    N = I // 10\n",
    "    bs = BS(N=N, I=I)\n",
    "    U_s = P1(s_, bs, 'CN')\n",
    "    hs.append(bs.h)\n",
    "    dictionary['I'].append(I)\n",
    "    dictionary['N'].append(N)\n",
    "    dictionary['U(s_)'].append(U_s)\n",
    "    if i > 0:\n",
    "        dictionary['e_k'].append(dictionary['U(s_)'][i] -\n",
    "                                 dictionary['U(s_)'][i - 1])\n",
    "    if i > 1:\n",
    "        e_k_1, e_k = dictionary['e_k'][i - 1:i + 1]\n",
    "        h_k_1, h_k = hs[i - 1:i + 1]\n",
    "        dictionary['order_alpha_k'].append(\n",
    "            get_order_alpha(e_k_1, e_k, h_k_1, h_k))\n",
    "\n",
    "df = pd.DataFrame.from_dict(dictionary)\n",
    "df.round(5)"
   ]
  },
  {
   "cell_type": "markdown",
   "id": "3d4f1e63",
   "metadata": {},
   "source": [
    "# Conclusion on numerical tests. "
   ]
  },
  {
   "cell_type": "markdown",
   "id": "42deb01a",
   "metadata": {},
   "source": [
    "We observe that with the same discretization, the Crank-Nicolson scheme can give the most accurate result and implicit schema is better than explicit schema, which is coherent with the theoretical analysis. "
   ]
  },
  {
   "cell_type": "markdown",
   "id": "880b171c",
   "metadata": {},
   "source": [
    "# Complement 1: program the sparse matrices"
   ]
  },
  {
   "cell_type": "code",
   "execution_count": 178,
   "id": "460a7605",
   "metadata": {},
   "outputs": [],
   "source": [
    "class BS_sparse:\n",
    "    def __init__(self,\n",
    "                 K=100,\n",
    "                 S_min=0,\n",
    "                 S_max=200,\n",
    "                 T=1,\n",
    "                 sigma=0.2,\n",
    "                 r=0.1,\n",
    "                 N=10,\n",
    "                 I=10):\n",
    "        self.K = K\n",
    "        self.S_min = S_min\n",
    "        self.S_max = S_max\n",
    "        self.T = T\n",
    "        self.sigma = sigma\n",
    "        self.r = r\n",
    "        self.N = N\n",
    "        self.I = I\n",
    "\n",
    "        self.h = (S_max - S_min) / I\n",
    "        self.dt = T / N\n",
    "\n",
    "        self.S = S_min+self.h*np.arange(1,I+1).reshape(-1, 1)\n",
    "        self.Sval = np.mean(self.S)\n",
    "        self.alpha = sigma**2 * self.S**2 / (2 * self.h**2)\n",
    "        self.beta = r * self.S / (2 * self.h)\n",
    "\n",
    "    def get_A(self) -> np.ndarray:\n",
    "        I = self.I\n",
    "        A = np.zeros((I, I))\n",
    "        for i in range(I):\n",
    "            A[i][i] = float(2 * self.alpha[i] + self.r)\n",
    "\n",
    "        for i in range(I - 1):\n",
    "            A[i + 1][i] = float(-self.alpha[i + 1] + self.beta[i + 1])\n",
    "            A[i][i + 1] = float(-self.alpha[i] - self.beta[i])\n",
    "\n",
    "        return sparse(A)\n",
    "\n",
    "    # Boundary condition\n",
    "    def phi(self) -> np.ndarray:\n",
    "        return np.maximum(self.K - self.S, 0).reshape(self.I, 1)\n",
    "\n",
    "    def uleft(self, t: float) -> float:\n",
    "        return (-self.alpha[0] + self.beta[0]) * (self.K * np.exp(-self.r * t) -\n",
    "                                                 self.S_min)\n",
    "\n",
    "    def uright(self) -> float:\n",
    "        return 0\n",
    "\n",
    "    def get_price(self, method: str) -> np.ndarray:\n",
    "        U = np.array(self.phi()).reshape(-1, 1)\n",
    "        q = np.zeros((self.I, 1))\n",
    "        A = self.get_A()\n",
    "\n",
    "        for t in range(self.N):\n",
    "            q[0] = self.uleft(t*self.dt)\n",
    "            q[-1] = self.uright()\n",
    "            if method == 'EE':\n",
    "                U = (np.eye(self.I) - self.dt * A) @ U - self.dt * q\n",
    "            if method == 'IE':\n",
    "                Id = sparse(np.eye(self.I))\n",
    "                U = spsolve(A + Id / self.dt, Id / self.dt @ U - q)\n",
    "                U = U.reshape(I, 1)\n",
    "            if method == 'CN':\n",
    "                Id = sparse(np.eye(self.I))\n",
    "                U = spsolve(A / 2 + Id / self.dt,\n",
    "                            (-A / 2 + Id / self.dt) @ U - q)\n",
    "                U = U.reshape(I, 1)\n",
    "        return U"
   ]
  },
  {
   "cell_type": "code",
   "execution_count": 179,
   "id": "ddd11eea",
   "metadata": {},
   "outputs": [
    {
     "name": "stdout",
     "output_type": "stream",
     "text": [
      "tcpu for EE =  1.05\n",
      "tcpu for EE sparse =  1.05\n",
      "tcpu for IE = 12.07\n",
      "tcpu for IE sparse =  4.38\n",
      "tcpu for CN = 12.68\n",
      "tcpu for CN sparse =  2.09\n"
     ]
    }
   ],
   "source": [
    "I, N = 1000, 100\n",
    "bs = BS(I=I, N=N)\n",
    "bs_sparse = BS_sparse(I=I, N=N)\n",
    "\n",
    "# EE\n",
    "t0_EE = time.time()\n",
    "bs.get_price('EE')\n",
    "t1_EE = time.time()\n",
    "\n",
    "t0_EE_sparse = time.time()\n",
    "bs_sparse.get_price('EE')\n",
    "t1_EE_sparse = time.time()\n",
    "\n",
    "# IE\n",
    "t0_IE = time.time()\n",
    "bs.get_price('IE')\n",
    "t1_IE = time.time()\n",
    "\n",
    "t0_IE_sparse = time.time()\n",
    "bs_sparse.get_price('IE')\n",
    "t1_IE_sparse = time.time()\n",
    "\n",
    "# CN\n",
    "t0_CN = time.time()\n",
    "bs.get_price('CN')\n",
    "t1_CN = time.time()\n",
    "\n",
    "t0_CN_sparse = time.time()\n",
    "bs_sparse.get_price('CN')\n",
    "t1_CN_sparse = time.time()\n",
    "\n",
    "print('tcpu for EE = %5.2f' % (t1_EE - t0_EE))\n",
    "print('tcpu for EE sparse = %5.2f' % (t1_EE_sparse - t0_EE_sparse))\n",
    "print('tcpu for IE = %5.2f' % (t1_IE - t0_IE))\n",
    "print('tcpu for IE sparse = %5.2f' % (t1_IE_sparse - t0_IE_sparse))\n",
    "print('tcpu for CN = %5.2f' % (t1_CN - t0_CN))\n",
    "print('tcpu for CN sparse = %5.2f' % (t1_CN_sparse - t0_CN_sparse))\n"
   ]
  },
  {
   "cell_type": "markdown",
   "id": "80a2b17c",
   "metadata": {},
   "source": [
    "By using the sparse matrix, we see that the computation time has been significantly reduced for IE and CN methods.\n",
    "However, since we don't need solve linear equation for EE method, sparse matrix can not improve the performance.\n"
   ]
  },
  {
   "cell_type": "markdown",
   "id": "8ee96079",
   "metadata": {},
   "source": [
    "# Complement 2: program the Black and Scholes formula "
   ]
  },
  {
   "cell_type": "code",
   "execution_count": 180,
   "id": "04f212cb",
   "metadata": {},
   "outputs": [],
   "source": [
    "def get_d1(S, K, sigma, r, t):\n",
    "    return (np.log(S / K) + (r + sigma**2 / 2) * t) / np.sqrt(sigma**2 * t)\n",
    "\n",
    "\n",
    "def BS_theo(S, K, sigma, r, t):\n",
    "    d1 = get_d1(S, K, sigma, r, t)\n",
    "    d2 = d1 - sigma * np.sqrt(t)\n",
    "    return K * np.exp(-r * t) * norm.cdf(-d2) - S * norm.cdf(-d1)\n"
   ]
  },
  {
   "cell_type": "markdown",
   "id": "9cea32ba",
   "metadata": {},
   "source": [
    "## EE"
   ]
  },
  {
   "cell_type": "code",
   "execution_count": 181,
   "id": "d908c297",
   "metadata": {},
   "outputs": [
    {
     "data": {
      "text/html": [
       "<div>\n",
       "<style scoped>\n",
       "    .dataframe tbody tr th:only-of-type {\n",
       "        vertical-align: middle;\n",
       "    }\n",
       "\n",
       "    .dataframe tbody tr th {\n",
       "        vertical-align: top;\n",
       "    }\n",
       "\n",
       "    .dataframe thead th {\n",
       "        text-align: right;\n",
       "    }\n",
       "</style>\n",
       "<table border=\"1\" class=\"dataframe\">\n",
       "  <thead>\n",
       "    <tr style=\"text-align: right;\">\n",
       "      <th></th>\n",
       "      <th>I</th>\n",
       "      <th>N</th>\n",
       "      <th>U(s_)</th>\n",
       "      <th>e_k</th>\n",
       "      <th>order_alpha_k</th>\n",
       "    </tr>\n",
       "  </thead>\n",
       "  <tbody>\n",
       "    <tr>\n",
       "      <th>0</th>\n",
       "      <td>10</td>\n",
       "      <td>10</td>\n",
       "      <td>14.25510</td>\n",
       "      <td>0.98143</td>\n",
       "      <td>NaN</td>\n",
       "    </tr>\n",
       "    <tr>\n",
       "      <th>1</th>\n",
       "      <td>20</td>\n",
       "      <td>40</td>\n",
       "      <td>13.54763</td>\n",
       "      <td>0.27397</td>\n",
       "      <td>1.97330</td>\n",
       "    </tr>\n",
       "    <tr>\n",
       "      <th>2</th>\n",
       "      <td>40</td>\n",
       "      <td>160</td>\n",
       "      <td>13.34511</td>\n",
       "      <td>0.07144</td>\n",
       "      <td>2.00901</td>\n",
       "    </tr>\n",
       "    <tr>\n",
       "      <th>3</th>\n",
       "      <td>80</td>\n",
       "      <td>640</td>\n",
       "      <td>13.29193</td>\n",
       "      <td>0.01827</td>\n",
       "      <td>2.00297</td>\n",
       "    </tr>\n",
       "    <tr>\n",
       "      <th>4</th>\n",
       "      <td>160</td>\n",
       "      <td>2560</td>\n",
       "      <td>13.27828</td>\n",
       "      <td>0.00462</td>\n",
       "      <td>2.00079</td>\n",
       "    </tr>\n",
       "    <tr>\n",
       "      <th>5</th>\n",
       "      <td>320</td>\n",
       "      <td>10240</td>\n",
       "      <td>13.27483</td>\n",
       "      <td>0.00116</td>\n",
       "      <td>2.00022</td>\n",
       "    </tr>\n",
       "  </tbody>\n",
       "</table>\n",
       "</div>"
      ],
      "text/plain": [
       "     I      N     U(s_)      e_k  order_alpha_k\n",
       "0   10     10  14.25510  0.98143            NaN\n",
       "1   20     40  13.54763  0.27397        1.97330\n",
       "2   40    160  13.34511  0.07144        2.00901\n",
       "3   80    640  13.29193  0.01827        2.00297\n",
       "4  160   2560  13.27828  0.00462        2.00079\n",
       "5  320  10240  13.27483  0.00116        2.00022"
      ]
     },
     "execution_count": 181,
     "metadata": {},
     "output_type": "execute_result"
    }
   ],
   "source": [
    "Is = [10, 20, 40, 80, 160, 320]\n",
    "s_ = 80\n",
    "hs = []\n",
    "\n",
    "dictionary = dic()\n",
    "dictionary['order_alpha_k'].append(None)\n",
    "\n",
    "for i in range(len(Is)):\n",
    "    I = Is[i]\n",
    "    N = I**2 // 10\n",
    "    bs = BS(N=N, I=I)\n",
    "    U_s = P1(s_, bs, 'EE')\n",
    "    hs.append(bs.h)\n",
    "    dictionary['I'].append(I)\n",
    "    dictionary['N'].append(N)\n",
    "    dictionary['U(s_)'].append(U_s)\n",
    "    dictionary['e_k'].append(dictionary['U(s_)'][i] -\n",
    "                             BS_theo(s_, bs.K, bs.sigma, bs.r, bs.T))\n",
    "    if i > 0:\n",
    "        e_k_1, e_k = dictionary['e_k'][i - 1:i + 1]\n",
    "        h_k_1, h_k = hs[i - 1:i + 1]\n",
    "        dictionary['order_alpha_k'].append(\n",
    "            get_order_alpha(e_k_1, e_k, h_k_1, h_k))\n",
    "\n",
    "df = pd.DataFrame.from_dict(dictionary)\n",
    "df.round(5)"
   ]
  },
  {
   "cell_type": "markdown",
   "id": "73388300",
   "metadata": {},
   "source": [
    "## IE"
   ]
  },
  {
   "cell_type": "code",
   "execution_count": 182,
   "id": "47d6dd89",
   "metadata": {},
   "outputs": [
    {
     "data": {
      "text/html": [
       "<div>\n",
       "<style scoped>\n",
       "    .dataframe tbody tr th:only-of-type {\n",
       "        vertical-align: middle;\n",
       "    }\n",
       "\n",
       "    .dataframe tbody tr th {\n",
       "        vertical-align: top;\n",
       "    }\n",
       "\n",
       "    .dataframe thead th {\n",
       "        text-align: right;\n",
       "    }\n",
       "</style>\n",
       "<table border=\"1\" class=\"dataframe\">\n",
       "  <thead>\n",
       "    <tr style=\"text-align: right;\">\n",
       "      <th></th>\n",
       "      <th>I</th>\n",
       "      <th>N</th>\n",
       "      <th>U(s_)</th>\n",
       "      <th>e_k</th>\n",
       "      <th>order_alpha_k</th>\n",
       "    </tr>\n",
       "  </thead>\n",
       "  <tbody>\n",
       "    <tr>\n",
       "      <th>0</th>\n",
       "      <td>10</td>\n",
       "      <td>10</td>\n",
       "      <td>14.44841</td>\n",
       "      <td>1.17475</td>\n",
       "      <td>NaN</td>\n",
       "    </tr>\n",
       "    <tr>\n",
       "      <th>1</th>\n",
       "      <td>20</td>\n",
       "      <td>20</td>\n",
       "      <td>13.64216</td>\n",
       "      <td>0.36850</td>\n",
       "      <td>1.79297</td>\n",
       "    </tr>\n",
       "    <tr>\n",
       "      <th>2</th>\n",
       "      <td>40</td>\n",
       "      <td>40</td>\n",
       "      <td>13.38614</td>\n",
       "      <td>0.11248</td>\n",
       "      <td>1.77362</td>\n",
       "    </tr>\n",
       "    <tr>\n",
       "      <th>3</th>\n",
       "      <td>80</td>\n",
       "      <td>80</td>\n",
       "      <td>13.31050</td>\n",
       "      <td>0.03684</td>\n",
       "      <td>1.63939</td>\n",
       "    </tr>\n",
       "    <tr>\n",
       "      <th>4</th>\n",
       "      <td>160</td>\n",
       "      <td>160</td>\n",
       "      <td>13.28707</td>\n",
       "      <td>0.01340</td>\n",
       "      <td>1.47180</td>\n",
       "    </tr>\n",
       "    <tr>\n",
       "      <th>5</th>\n",
       "      <td>320</td>\n",
       "      <td>320</td>\n",
       "      <td>13.27909</td>\n",
       "      <td>0.00543</td>\n",
       "      <td>1.31047</td>\n",
       "    </tr>\n",
       "  </tbody>\n",
       "</table>\n",
       "</div>"
      ],
      "text/plain": [
       "     I    N     U(s_)      e_k  order_alpha_k\n",
       "0   10   10  14.44841  1.17475            NaN\n",
       "1   20   20  13.64216  0.36850        1.79297\n",
       "2   40   40  13.38614  0.11248        1.77362\n",
       "3   80   80  13.31050  0.03684        1.63939\n",
       "4  160  160  13.28707  0.01340        1.47180\n",
       "5  320  320  13.27909  0.00543        1.31047"
      ]
     },
     "execution_count": 182,
     "metadata": {},
     "output_type": "execute_result"
    }
   ],
   "source": [
    "values = [10, 20, 40, 80, 160, 320]\n",
    "s_ = 80\n",
    "hs = []\n",
    "\n",
    "dictionary = dic()\n",
    "dictionary['order_alpha_k'].append(None)\n",
    "\n",
    "for i in range(len(values)):\n",
    "    N = I = values[i]\n",
    "    bs = BS(N=N, I=I)\n",
    "    U_s = P1(s_, bs, 'IE')\n",
    "    hs.append(bs.h)\n",
    "    dictionary['I'].append(I)\n",
    "    dictionary['N'].append(N)\n",
    "    dictionary['U(s_)'].append(U_s)\n",
    "    dictionary['e_k'].append(dictionary['U(s_)'][i] -\n",
    "                             BS_theo(s_, bs.K, bs.sigma, bs.r, bs.T))\n",
    "    if i > 0:\n",
    "        e_k_1, e_k = dictionary['e_k'][i - 1:i + 1]\n",
    "        h_k_1, h_k = hs[i - 1:i + 1]\n",
    "        dictionary['order_alpha_k'].append(\n",
    "            get_order_alpha(e_k_1, e_k, h_k_1, h_k))\n",
    "\n",
    "df = pd.DataFrame.from_dict(dictionary)\n",
    "df.round(5)"
   ]
  },
  {
   "cell_type": "markdown",
   "id": "d7afa46c",
   "metadata": {},
   "source": [
    "## CN"
   ]
  },
  {
   "cell_type": "code",
   "execution_count": 176,
   "id": "f08285e6",
   "metadata": {},
   "outputs": [
    {
     "data": {
      "text/html": [
       "<div>\n",
       "<style scoped>\n",
       "    .dataframe tbody tr th:only-of-type {\n",
       "        vertical-align: middle;\n",
       "    }\n",
       "\n",
       "    .dataframe tbody tr th {\n",
       "        vertical-align: top;\n",
       "    }\n",
       "\n",
       "    .dataframe thead th {\n",
       "        text-align: right;\n",
       "    }\n",
       "</style>\n",
       "<table border=\"1\" class=\"dataframe\">\n",
       "  <thead>\n",
       "    <tr style=\"text-align: right;\">\n",
       "      <th></th>\n",
       "      <th>I</th>\n",
       "      <th>N</th>\n",
       "      <th>U(s_)</th>\n",
       "      <th>e_k</th>\n",
       "      <th>order_alpha_k</th>\n",
       "    </tr>\n",
       "  </thead>\n",
       "  <tbody>\n",
       "    <tr>\n",
       "      <th>0</th>\n",
       "      <td>10</td>\n",
       "      <td>10</td>\n",
       "      <td>14.35346</td>\n",
       "      <td>1.07979</td>\n",
       "      <td>NaN</td>\n",
       "    </tr>\n",
       "    <tr>\n",
       "      <th>1</th>\n",
       "      <td>20</td>\n",
       "      <td>20</td>\n",
       "      <td>13.57889</td>\n",
       "      <td>0.30523</td>\n",
       "      <td>1.95393</td>\n",
       "    </tr>\n",
       "    <tr>\n",
       "      <th>2</th>\n",
       "      <td>40</td>\n",
       "      <td>40</td>\n",
       "      <td>13.35314</td>\n",
       "      <td>0.07948</td>\n",
       "      <td>2.01121</td>\n",
       "    </tr>\n",
       "    <tr>\n",
       "      <th>3</th>\n",
       "      <td>80</td>\n",
       "      <td>80</td>\n",
       "      <td>13.29394</td>\n",
       "      <td>0.02028</td>\n",
       "      <td>2.00588</td>\n",
       "    </tr>\n",
       "    <tr>\n",
       "      <th>4</th>\n",
       "      <td>160</td>\n",
       "      <td>160</td>\n",
       "      <td>13.27879</td>\n",
       "      <td>0.00513</td>\n",
       "      <td>2.00242</td>\n",
       "    </tr>\n",
       "    <tr>\n",
       "      <th>5</th>\n",
       "      <td>320</td>\n",
       "      <td>320</td>\n",
       "      <td>13.27495</td>\n",
       "      <td>0.00129</td>\n",
       "      <td>2.00106</td>\n",
       "    </tr>\n",
       "  </tbody>\n",
       "</table>\n",
       "</div>"
      ],
      "text/plain": [
       "     I    N     U(s_)      e_k  order_alpha_k\n",
       "0   10   10  14.35346  1.07979            NaN\n",
       "1   20   20  13.57889  0.30523        1.95393\n",
       "2   40   40  13.35314  0.07948        2.01121\n",
       "3   80   80  13.29394  0.02028        2.00588\n",
       "4  160  160  13.27879  0.00513        2.00242\n",
       "5  320  320  13.27495  0.00129        2.00106"
      ]
     },
     "execution_count": 176,
     "metadata": {},
     "output_type": "execute_result"
    }
   ],
   "source": [
    "values = [10, 20, 40, 80, 160, 320]\n",
    "s_ = 80\n",
    "hs = []\n",
    "\n",
    "dictionary = dic()\n",
    "dictionary['order_alpha_k'].append(None)\n",
    "\n",
    "for i in range(len(values)):\n",
    "    N = I = values[i]\n",
    "    bs = BS(N=N, I=I)\n",
    "    U_s = P1(s_, bs, 'CN')\n",
    "    hs.append(bs.h)\n",
    "    dictionary['I'].append(I)\n",
    "    dictionary['N'].append(N)\n",
    "    dictionary['U(s_)'].append(U_s)\n",
    "    dictionary['e_k'].append(dictionary['U(s_)'][i] -\n",
    "                             BS_theo(s_, bs.K, bs.sigma, bs.r, bs.T))\n",
    "    if i > 0:\n",
    "        e_k_1, e_k = dictionary['e_k'][i - 1:i + 1]\n",
    "        h_k_1, h_k = hs[i - 1:i + 1]\n",
    "        dictionary['order_alpha_k'].append(\n",
    "            get_order_alpha(e_k_1, e_k, h_k_1, h_k))\n",
    "\n",
    "df = pd.DataFrame.from_dict(dictionary)\n",
    "df.round(5)"
   ]
  },
  {
   "cell_type": "code",
   "execution_count": null,
   "id": "210f205f",
   "metadata": {},
   "outputs": [],
   "source": []
  }
 ],
 "metadata": {
  "kernelspec": {
   "display_name": "Python 3",
   "language": "python",
   "name": "python3"
  },
  "language_info": {
   "codemirror_mode": {
    "name": "ipython",
    "version": 3
   },
   "file_extension": ".py",
   "mimetype": "text/x-python",
   "name": "python",
   "nbconvert_exporter": "python",
   "pygments_lexer": "ipython3",
   "version": "3.9.0"
  },
  "toc": {
   "base_numbering": 1,
   "nav_menu": {},
   "number_sections": true,
   "sideBar": true,
   "skip_h1_title": false,
   "title_cell": "Table of Contents",
   "title_sidebar": "Contents",
   "toc_cell": false,
   "toc_position": {},
   "toc_section_display": true,
   "toc_window_display": false
  }
 },
 "nbformat": 4,
 "nbformat_minor": 5
}
