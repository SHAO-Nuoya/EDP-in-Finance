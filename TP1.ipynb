{
 "cells": [
  {
   "cell_type": "code",
   "execution_count": 55,
   "id": "2c9bdbd3",
   "metadata": {},
   "outputs": [
    {
     "data": {
      "text/plain": [
       "'\\nDescription: \\nVersion: 1.0\\nAutor: SHAO Nuoya\\nDate: 2021-12-03 13:46:17\\nLastEditors: SHAO Nuoya\\nLastEditTime: 2021-12-05 01:05:54\\nFilePath: \\\\EDP-in-Finance\\\\TP1.ipynb\\n'"
      ]
     },
     "execution_count": 55,
     "metadata": {},
     "output_type": "execute_result"
    }
   ],
   "source": [
    "'''\n",
    "Description: \n",
    "Version: 1.0\n",
    "Autor: SHAO Nuoya\n",
    "Date: 2021-12-03 13:46:17\n",
    "LastEditors: SHAO Nuoya\n",
    "LastEditTime: 2021-12-05 01:05:54\n",
    "FilePath: \\EDP-in-Finance\\TP1.ipynb\n",
    "'''"
   ]
  },
  {
   "cell_type": "code",
   "execution_count": 56,
   "id": "749752af",
   "metadata": {},
   "outputs": [],
   "source": [
    "import numpy as np\n",
    "import matplotlib.pyplot as plt\n",
    "import pandas as pd\n",
    "import time\n",
    "from scipy.sparse import csr_matrix as sparse\n",
    "from scipy.sparse.linalg import spsolve\n",
    "from scipy.stats import norm\n",
    "\n",
    "np.set_printoptions(suppress=True)"
   ]
  },
  {
   "cell_type": "code",
   "execution_count": 57,
   "id": "18a6f896",
   "metadata": {},
   "outputs": [],
   "source": [
    "class BS:\n",
    "    def __init__(self,\n",
    "                 K=100,\n",
    "                 S_min=0,\n",
    "                 S_max=200,\n",
    "                 T=1,\n",
    "                 sigma=0.2,\n",
    "                 r=0.1,\n",
    "                 N=10,\n",
    "                 I=10):\n",
    "        self.K = K\n",
    "        self.S_min = S_min\n",
    "        self.S_max = S_max\n",
    "        self.T = T\n",
    "        self.sigma = sigma\n",
    "        self.r = r\n",
    "        self.N = N\n",
    "        self.I = I\n",
    "\n",
    "        self.h = (S_max - S_min) / I\n",
    "        self.dt = T / N\n",
    "\n",
    "        self.S = np.linspace(S_min, S_max, I).reshape(-1, 1)\n",
    "        self.Sval = np.mean(self.S)\n",
    "        self.alpha = sigma**2 * self.S**2 / (2 * self.h**2)\n",
    "        self.beta = r * self.S / (2 * self.h)\n",
    "\n",
    "    def get_A(self) -> np.ndarray:\n",
    "        I = self.I\n",
    "        A = np.zeros((I, I))\n",
    "        for i in range(I):\n",
    "            A[i, i] = 2 * self.alpha[i] + self.r\n",
    "\n",
    "        for i in range(I - 1):\n",
    "            A[i + 1, i] = -self.alpha[i + 1] + self.beta[i + 1]\n",
    "            A[i, i + 1] = -self.alpha[i] - self.beta[i]\n",
    "        return A\n",
    "\n",
    "    # Boundary condition\n",
    "    def phi(self) -> np.ndarray:\n",
    "        return np.maximum(self.K - self.S, 0).reshape(self.I, 1)\n",
    "\n",
    "    def uleft(self, U: np.ndarray) -> float:\n",
    "        return (-self.alpha[0] + self.beta[0]) * U[0]\n",
    "\n",
    "    def uright(self, U: np.ndarray) -> float:\n",
    "        return (-self.alpha[-1] - self.beta[-1]) * U[-1]\n",
    "\n",
    "    def get_price(self, method: str) -> np.ndarray:\n",
    "        U = np.array(self.phi())\n",
    "        q = np.zeros((self.I, 1))\n",
    "        A = self.get_A()\n",
    "        for t in range(self.N):\n",
    "            q[0] = self.uleft(U)\n",
    "            q[-1] = self.uright(U)\n",
    "            if method == 'EE':\n",
    "                U = (np.eye(self.I) - self.dt * A) @ U - self.dt * q\n",
    "            if method == 'IE':\n",
    "                U = np.linalg.solve(A + np.eye(self.I) / self.dt,\n",
    "                                    np.eye(self.I) / self.dt @ U - q)\n",
    "            if method == 'CN':\n",
    "                U = np.linalg.solve(A / 2 + np.eye(self.I) / self.dt,\n",
    "                                    (-A / 2 + np.eye(self.I) / self.dt) @ U -\n",
    "                                    q)\n",
    "\n",
    "        return U"
   ]
  },
  {
   "cell_type": "code",
   "execution_count": 58,
   "id": "f7d6fd8e",
   "metadata": {},
   "outputs": [],
   "source": [
    "def plot(method: str, I: int, N: int) -> None:\n",
    "    bs = BS(I=I, N=N)\n",
    "    U = bs.get_price(method)\n",
    "    # plt.subplot(3, 3, index)\n",
    "    plt.plot(bs.S, U)\n",
    "    plt.plot(bs.S, bs.phi(), linestyle='--')\n",
    "    plt.title('I = {}, N = {}, K = {}'.format(bs.I, bs.N, bs.K))\n",
    "    plt.xlabel('S0')\n",
    "    plt.ylabel('Payoff')\n",
    "    plt.grid()"
   ]
  },
  {
   "cell_type": "markdown",
   "id": "dcd882e2",
   "metadata": {},
   "source": [
    "# Explicit Euler (EE) scheme"
   ]
  },
  {
   "cell_type": "markdown",
   "id": "1c3ccb45",
   "metadata": {},
   "source": [
    "## a) Test the Euler forward scheme (EE). \n",
    "First fix N = 10 and take I = 10,20,50,....Then take the following N = I values : 10,20,50,100"
   ]
  },
  {
   "cell_type": "code",
   "execution_count": 59,
   "id": "bc46cbf0",
   "metadata": {},
   "outputs": [
    {
     "data": {
      "image/png": "[encoded data removed]",
      "text/plain": [
       "<Figure size 720x720 with 4 Axes>"
      ]
     },
     "metadata": {
      "needs_background": "light"
     },
     "output_type": "display_data"
    }
   ],
   "source": [
    "  Is = [10, 20, 50, 100]\n",
    "  N = 10\n",
    "  \n",
    "  plt.figure(figsize=(10, 10))\n",
    "  for i in range(len(Is)):\n",
    "    plt.subplot(2,2,i+1)\n",
    "    I = Is[i]\n",
    "    plot('EE', I, N)"
   ]
  },
  {
   "cell_type": "code",
   "execution_count": 60,
   "id": "cdff7391",
   "metadata": {},
   "outputs": [
    {
     "data": {
      "image/png": "[encoded data removed]",
      "text/plain": [
       "<Figure size 720x720 with 4 Axes>"
      ]
     },
     "metadata": {
      "needs_background": "light"
     },
     "output_type": "display_data"
    }
   ],
   "source": [
    "  Is = [10, 20, 50, 100]\n",
    "  \n",
    "  plt.figure(figsize=(10, 10))\n",
    "  for i in range(len(Is)):\n",
    "    plt.subplot(2,2,i+1)\n",
    "    I = Is[i]\n",
    "    N = I\n",
    "    plot('EE', I, N)"
   ]
  },
  {
   "cell_type": "markdown",
   "id": "1b54e35a",
   "metadata": {},
   "source": [
    "## b) Understand the origin of the oscillations or explosion when they occur\n",
    "Fix N = 10 and I = 50, and look at the \"amplification\" matrix defined as\n",
    "$$B := Id −∆tA$$"
   ]
  },
  {
   "cell_type": "code",
   "execution_count": 61,
   "id": "7096c161",
   "metadata": {},
   "outputs": [
    {
     "name": "stdout",
     "output_type": "stream",
     "text": [
      "[[ 0.99   0.     0.    ...  0.     0.     0.   ]\n",
      " [-0.003  0.986  0.007 ...  0.     0.     0.   ]\n",
      " [ 0.    -0.002  0.973 ...  0.     0.     0.   ]\n",
      " ...\n",
      " [ 0.     0.     0.    ... -8.21   4.84   0.   ]\n",
      " [ 0.     0.     0.    ...  4.553 -8.606  5.043]\n",
      " [ 0.     0.     0.    ...  0.     4.75  -9.01 ]]\n",
      "norm_inf: 18.201999999999998\n",
      "norm_2: 16.44588908462899\n"
     ]
    }
   ],
   "source": [
    "N = 10\n",
    "I = 50\n",
    "bs = BS(N=N, I=I)\n",
    "A = bs.get_A()\n",
    "B = np.eye(A.shape[0]) - bs.dt * A\n",
    "B = np.round(B, 3)\n",
    "print(B)\n",
    "\n",
    "norm_inf = np.linalg.norm(B, np.inf)\n",
    "norm_2 = np.linalg.norm(B, 2)\n",
    "print('norm_inf: {}\\nnorm_2: {}'.format(norm_inf, norm_2))"
   ]
  },
  {
   "cell_type": "markdown",
   "id": "aececf21",
   "metadata": {},
   "source": [
    "We see clearly that the coefficients of B are not all positive and that they may have a modulus greater than 1 <br>\n",
    "When $N=10$, $I=50$, $||B||_2$ and $||B||_{\\infty}$ are larger than 1"
   ]
  },
  {
   "cell_type": "code",
   "execution_count": 62,
   "id": "57c093bb",
   "metadata": {},
   "outputs": [
    {
     "name": "stdout",
     "output_type": "stream",
     "text": [
      "[[ 0.99   0.     0.     0.     0.     0.     0.     0.     0.     0.   ]\n",
      " [-0.003  0.985  0.008  0.     0.     0.     0.     0.     0.     0.   ]\n",
      " [ 0.    -0.001  0.97   0.021  0.     0.     0.     0.     0.     0.   ]\n",
      " [ 0.     0.     0.006  0.946  0.039  0.     0.     0.     0.     0.   ]\n",
      " [ 0.     0.     0.     0.017  0.911  0.062  0.     0.     0.     0.   ]\n",
      " [ 0.     0.     0.     0.     0.034  0.867  0.09   0.     0.     0.   ]\n",
      " [ 0.     0.     0.     0.     0.     0.056  0.812  0.122  0.     0.   ]\n",
      " [ 0.     0.     0.     0.     0.     0.     0.082  0.748  0.16   0.   ]\n",
      " [ 0.     0.     0.     0.     0.     0.     0.     0.114  0.674  0.202]\n",
      " [ 0.     0.     0.     0.     0.     0.     0.     0.     0.15   0.59 ]]\n",
      "norm_inf: 0.996\n",
      "norm_2: 0.9904894166526466\n"
     ]
    }
   ],
   "source": [
    "N = 10\n",
    "I = 10\n",
    "bs = BS(N=N, I=I)\n",
    "A = bs.get_A()\n",
    "B = np.eye(A.shape[0]) - bs.dt * A\n",
    "B = np.round(B, 3)\n",
    "print(B)\n",
    "\n",
    "norm_inf = np.linalg.norm(B, np.inf)\n",
    "norm_2 = np.linalg.norm(B, 2)\n",
    "print('norm_inf: {}\\nnorm_2: {}'.format(norm_inf, norm_2))"
   ]
  },
  {
   "cell_type": "markdown",
   "id": "ad51b2d8",
   "metadata": {},
   "source": [
    "We see clearly that the coefficients of B are (almost) all positive, and smaller than 1 <br>\n",
    "When $N=10$, $I=10$, $||B||_2$ and $||B||_{\\infty}$ are smaller than 1"
   ]
  },
  {
   "cell_type": "markdown",
   "id": "7158d3c1",
   "metadata": {},
   "source": []
  },
  {
   "cell_type": "markdown",
   "id": "8dead191",
   "metadata": {},
   "source": [
    "## c) Compute the CFL number"
   ]
  },
  {
   "cell_type": "code",
   "execution_count": 63,
   "id": "ef718301",
   "metadata": {},
   "outputs": [],
   "source": [
    "def CFL(dt, h, sigma, Smax):\n",
    "    return dt * sigma**2 * Smax**2 / (h**2)\n"
   ]
  },
  {
   "cell_type": "code",
   "execution_count": 64,
   "id": "b1d52974",
   "metadata": {},
   "outputs": [
    {
     "name": "stdout",
     "output_type": "stream",
     "text": [
      "When N = 10, I = 10, mu = 0.4000000000000001\n",
      "When N = 10, I = 50, mu = 10.000000000000002\n"
     ]
    }
   ],
   "source": [
    "N1 = 10\n",
    "I1 = 10\n",
    "N2 = 10\n",
    "I2 = 50\n",
    "bs1 = BS(N=N1, I=I1)\n",
    "bs2 = BS(N=N2, I=I2)\n",
    "CFL1 = CFL(bs1.dt, bs1.h, bs1.sigma, bs1.S_max)\n",
    "CFL2 = CFL(bs2.dt, bs2.h, bs2.sigma, bs2.S_max)\n",
    "print('When N = 10, I = 10, mu = {}\\nWhen N = 10, I = 50, mu = {}'.format(\n",
    "    CFL1, CFL2))\n"
   ]
  },
  {
   "cell_type": "markdown",
   "id": "decd5b6e",
   "metadata": {},
   "source": [
    "Hence there is no stability problem when $\\mu$ is sufficiently small."
   ]
  },
  {
   "cell_type": "markdown",
   "id": "3907742e",
   "metadata": {},
   "source": [
    "## d)  Compute the P1-interpolated value at $\\overline{s}$ = 90"
   ]
  },
  {
   "cell_type": "code",
   "execution_count": 65,
   "id": "21b64e97",
   "metadata": {},
   "outputs": [],
   "source": [
    "def P1(s_bar, bs, method):\n",
    "    U = bs.get_price(method)\n",
    "\n",
    "    for i in range(len(bs.S)):\n",
    "        if bs.S[i] <= s_bar and bs.S[i + 1] >= s_bar:\n",
    "            index = i\n",
    "            break\n",
    "    s_i = bs.S[index]\n",
    "    s_ii = bs.S[index + 1]\n",
    "    P1_S = (s_ii - s_bar) * U[index] / bs.h + (s_bar - s_i) * U[index +\n",
    "                                                                1] / bs.h\n",
    "\n",
    "    return P1_S[0]"
   ]
  },
  {
   "cell_type": "code",
   "execution_count": 66,
   "id": "1d3c70ff",
   "metadata": {},
   "outputs": [
    {
     "name": "stdout",
     "output_type": "stream",
     "text": [
      "When N = 10, I = 10, PI approximation = 8.792522992351646\n"
     ]
    }
   ],
   "source": [
    "N = I = 10\n",
    "s_bar = 90\n",
    "bs = BS(N=N, I=I)\n",
    "P1_S = P1(s_bar, bs, 'EE')\n",
    "print('When N = {}, I = {}, PI approximation = {}'.format(N, I, P1_S))"
   ]
  },
  {
   "cell_type": "markdown",
   "id": "665f3a87",
   "metadata": {},
   "source": [
    "## e) Numerical order of the scheme"
   ]
  },
  {
   "cell_type": "code",
   "execution_count": 67,
   "id": "815115dd",
   "metadata": {},
   "outputs": [],
   "source": [
    "def dic() -> dict:\n",
    "    dic = {'I': [], 'N': [], 'U(s_)': [], 'e_k': [], 'order_alpha_k': []}\n",
    "    return dic\n",
    "\n",
    "\n",
    "def get_order_alpha(e_k_1, e_k, h_k_1, h_k) -> float:\n",
    "    return np.log(e_k_1 / e_k) / np.log(h_k_1 / h_k)\n"
   ]
  },
  {
   "cell_type": "markdown",
   "id": "eaec1385",
   "metadata": {},
   "source": [
    "### N=I"
   ]
  },
  {
   "cell_type": "code",
   "execution_count": 68,
   "id": "b9dfcfd5",
   "metadata": {},
   "outputs": [
    {
     "data": {
      "text/html": [
       "<div>\n",
       "<style scoped>\n",
       "    .dataframe tbody tr th:only-of-type {\n",
       "        vertical-align: middle;\n",
       "    }\n",
       "\n",
       "    .dataframe tbody tr th {\n",
       "        vertical-align: top;\n",
       "    }\n",
       "\n",
       "    .dataframe thead th {\n",
       "        text-align: right;\n",
       "    }\n",
       "</style>\n",
       "<table border=\"1\" class=\"dataframe\">\n",
       "  <thead>\n",
       "    <tr style=\"text-align: right;\">\n",
       "      <th></th>\n",
       "      <th>I</th>\n",
       "      <th>N</th>\n",
       "      <th>U(s_)</th>\n",
       "      <th>e_k</th>\n",
       "      <th>order_alpha_k</th>\n",
       "    </tr>\n",
       "  </thead>\n",
       "  <tbody>\n",
       "    <tr>\n",
       "      <th>0</th>\n",
       "      <td>10</td>\n",
       "      <td>10</td>\n",
       "      <td>1.622489e+01</td>\n",
       "      <td>NaN</td>\n",
       "      <td>NaN</td>\n",
       "    </tr>\n",
       "    <tr>\n",
       "      <th>1</th>\n",
       "      <td>20</td>\n",
       "      <td>20</td>\n",
       "      <td>1.428269e+01</td>\n",
       "      <td>-1.942200e+00</td>\n",
       "      <td>NaN</td>\n",
       "    </tr>\n",
       "    <tr>\n",
       "      <th>2</th>\n",
       "      <td>40</td>\n",
       "      <td>40</td>\n",
       "      <td>1.367040e+01</td>\n",
       "      <td>-6.122900e-01</td>\n",
       "      <td>1.66541</td>\n",
       "    </tr>\n",
       "    <tr>\n",
       "      <th>3</th>\n",
       "      <td>80</td>\n",
       "      <td>80</td>\n",
       "      <td>-3.627411e+03</td>\n",
       "      <td>-3.641081e+03</td>\n",
       "      <td>-12.53787</td>\n",
       "    </tr>\n",
       "    <tr>\n",
       "      <th>4</th>\n",
       "      <td>160</td>\n",
       "      <td>160</td>\n",
       "      <td>-2.779584e+69</td>\n",
       "      <td>-2.779584e+69</td>\n",
       "      <td>-218.85776</td>\n",
       "    </tr>\n",
       "  </tbody>\n",
       "</table>\n",
       "</div>"
      ],
      "text/plain": [
       "     I    N         U(s_)           e_k  order_alpha_k\n",
       "0   10   10  1.622489e+01           NaN            NaN\n",
       "1   20   20  1.428269e+01 -1.942200e+00            NaN\n",
       "2   40   40  1.367040e+01 -6.122900e-01        1.66541\n",
       "3   80   80 -3.627411e+03 -3.641081e+03      -12.53787\n",
       "4  160  160 -2.779584e+69 -2.779584e+69     -218.85776"
      ]
     },
     "execution_count": 68,
     "metadata": {},
     "output_type": "execute_result"
    }
   ],
   "source": [
    "values = [10, 20, 40, 80, 160]\n",
    "s_ = 80\n",
    "hs = []\n",
    "\n",
    "dictionary = dic()\n",
    "dictionary['e_k'].append(None)\n",
    "dictionary['order_alpha_k'].extend([None, None])\n",
    "\n",
    "for i in range(len(values)):\n",
    "    N = I = values[i]\n",
    "    bs = BS(N=N, I=I)\n",
    "    U_s = P1(s_, bs, 'EE')\n",
    "    hs.append(bs.h)\n",
    "    dictionary['I'].append(I)\n",
    "    dictionary['N'].append(N)\n",
    "    dictionary['U(s_)'].append(U_s)\n",
    "    if i > 0:\n",
    "        dictionary['e_k'].append(dictionary['U(s_)'][i] -\n",
    "                                 dictionary['U(s_)'][i - 1])\n",
    "    if i > 1:\n",
    "        e_k_1, e_k = dictionary['e_k'][i - 1:i + 1]\n",
    "        h_k_1, h_k = hs[i - 1:i + 1]\n",
    "        dictionary['order_alpha_k'].append(\n",
    "            get_order_alpha(e_k_1, e_k, h_k_1, h_k))\n",
    "\n",
    "df = pd.DataFrame.from_dict(dictionary)\n",
    "df.round(5)"
   ]
  },
  {
   "cell_type": "markdown",
   "id": "14b6fcd0",
   "metadata": {},
   "source": [
    "### N=$I^2$/10"
   ]
  },
  {
   "cell_type": "code",
   "execution_count": 69,
   "id": "abc3426f",
   "metadata": {},
   "outputs": [
    {
     "data": {
      "text/html": [
       "<div>\n",
       "<style scoped>\n",
       "    .dataframe tbody tr th:only-of-type {\n",
       "        vertical-align: middle;\n",
       "    }\n",
       "\n",
       "    .dataframe tbody tr th {\n",
       "        vertical-align: top;\n",
       "    }\n",
       "\n",
       "    .dataframe thead th {\n",
       "        text-align: right;\n",
       "    }\n",
       "</style>\n",
       "<table border=\"1\" class=\"dataframe\">\n",
       "  <thead>\n",
       "    <tr style=\"text-align: right;\">\n",
       "      <th></th>\n",
       "      <th>I</th>\n",
       "      <th>N</th>\n",
       "      <th>U(s_)</th>\n",
       "      <th>e_k</th>\n",
       "      <th>order_alpha_k</th>\n",
       "    </tr>\n",
       "  </thead>\n",
       "  <tbody>\n",
       "    <tr>\n",
       "      <th>0</th>\n",
       "      <td>10</td>\n",
       "      <td>10</td>\n",
       "      <td>16.22489</td>\n",
       "      <td>NaN</td>\n",
       "      <td>NaN</td>\n",
       "    </tr>\n",
       "    <tr>\n",
       "      <th>1</th>\n",
       "      <td>20</td>\n",
       "      <td>40</td>\n",
       "      <td>14.31518</td>\n",
       "      <td>-1.90972</td>\n",
       "      <td>NaN</td>\n",
       "    </tr>\n",
       "    <tr>\n",
       "      <th>2</th>\n",
       "      <td>40</td>\n",
       "      <td>160</td>\n",
       "      <td>13.69536</td>\n",
       "      <td>-0.61982</td>\n",
       "      <td>1.62344</td>\n",
       "    </tr>\n",
       "    <tr>\n",
       "      <th>3</th>\n",
       "      <td>80</td>\n",
       "      <td>640</td>\n",
       "      <td>13.46157</td>\n",
       "      <td>-0.23378</td>\n",
       "      <td>1.40667</td>\n",
       "    </tr>\n",
       "    <tr>\n",
       "      <th>4</th>\n",
       "      <td>160</td>\n",
       "      <td>2560</td>\n",
       "      <td>13.36210</td>\n",
       "      <td>-0.09948</td>\n",
       "      <td>1.23271</td>\n",
       "    </tr>\n",
       "    <tr>\n",
       "      <th>5</th>\n",
       "      <td>320</td>\n",
       "      <td>10240</td>\n",
       "      <td>13.31652</td>\n",
       "      <td>-0.04557</td>\n",
       "      <td>1.12623</td>\n",
       "    </tr>\n",
       "  </tbody>\n",
       "</table>\n",
       "</div>"
      ],
      "text/plain": [
       "     I      N     U(s_)      e_k  order_alpha_k\n",
       "0   10     10  16.22489      NaN            NaN\n",
       "1   20     40  14.31518 -1.90972            NaN\n",
       "2   40    160  13.69536 -0.61982        1.62344\n",
       "3   80    640  13.46157 -0.23378        1.40667\n",
       "4  160   2560  13.36210 -0.09948        1.23271\n",
       "5  320  10240  13.31652 -0.04557        1.12623"
      ]
     },
     "execution_count": 69,
     "metadata": {},
     "output_type": "execute_result"
    }
   ],
   "source": [
    "Is = [10, 20, 40, 80, 160, 320]\n",
    "s_ = 80\n",
    "hs = []\n",
    "\n",
    "dictionary = dic()\n",
    "dictionary['e_k'].append(None)\n",
    "dictionary['order_alpha_k'].extend([None, None])\n",
    "\n",
    "for i in range(len(Is)):\n",
    "    I = Is[i]\n",
    "    N = I**2 // 10\n",
    "    bs = BS(N=N, I=I)\n",
    "    U_s = P1(s_, bs, 'EE')\n",
    "    hs.append(bs.h)\n",
    "    dictionary['I'].append(I)\n",
    "    dictionary['N'].append(N)\n",
    "    dictionary['U(s_)'].append(U_s)\n",
    "    if i > 0:\n",
    "        dictionary['e_k'].append(dictionary['U(s_)'][i] -\n",
    "                                 dictionary['U(s_)'][i - 1])\n",
    "    if i > 1:\n",
    "        e_k_1, e_k = dictionary['e_k'][i - 1:i + 1]\n",
    "        h_k_1, h_k = hs[i - 1:i + 1]\n",
    "        dictionary['order_alpha_k'].append(\n",
    "            get_order_alpha(e_k_1, e_k, h_k_1, h_k))\n",
    "\n",
    "df = pd.DataFrame.from_dict(dictionary)\n",
    "df.round(5)"
   ]
  },
  {
   "cell_type": "markdown",
   "id": "43a39245",
   "metadata": {},
   "source": [
    "# Implicit Euler (IE) scheme"
   ]
  },
  {
   "cell_type": "markdown",
   "id": "f04e534b",
   "metadata": {},
   "source": [
    "## a) Check that with the IE scheme there is no more stability problems"
   ]
  },
  {
   "cell_type": "code",
   "execution_count": 70,
   "id": "4ae4011f",
   "metadata": {},
   "outputs": [
    {
     "data": {
      "image/png": "[encoded data removed]",
      "text/plain": [
       "<Figure size 720x720 with 4 Axes>"
      ]
     },
     "metadata": {
      "needs_background": "light"
     },
     "output_type": "display_data"
    }
   ],
   "source": [
    "  Is = [10, 20, 50, 100]\n",
    "  N = 10\n",
    "  \n",
    "  plt.figure(figsize=(10, 10))\n",
    "  for i in range(len(Is)):\n",
    "    plt.subplot(2,2,i+1)\n",
    "    I = Is[i]\n",
    "    plot('IE', I, N)"
   ]
  },
  {
   "cell_type": "markdown",
   "id": "05bc4f08",
   "metadata": {},
   "source": [
    "We see clearly that with the IE scheme there is no more stability problems"
   ]
  },
  {
   "cell_type": "markdown",
   "id": "3f38b02e",
   "metadata": {},
   "source": [
    "## b) Draw the corresponding table with N = I and with N = I/10"
   ]
  },
  {
   "cell_type": "markdown",
   "id": "dd34142e",
   "metadata": {},
   "source": [
    "### N=I"
   ]
  },
  {
   "cell_type": "code",
   "execution_count": 71,
   "id": "0a436850",
   "metadata": {},
   "outputs": [
    {
     "data": {
      "text/html": [
       "<div>\n",
       "<style scoped>\n",
       "    .dataframe tbody tr th:only-of-type {\n",
       "        vertical-align: middle;\n",
       "    }\n",
       "\n",
       "    .dataframe tbody tr th {\n",
       "        vertical-align: top;\n",
       "    }\n",
       "\n",
       "    .dataframe thead th {\n",
       "        text-align: right;\n",
       "    }\n",
       "</style>\n",
       "<table border=\"1\" class=\"dataframe\">\n",
       "  <thead>\n",
       "    <tr style=\"text-align: right;\">\n",
       "      <th></th>\n",
       "      <th>I</th>\n",
       "      <th>N</th>\n",
       "      <th>U(s_)</th>\n",
       "      <th>e_k</th>\n",
       "      <th>order_alpha_k</th>\n",
       "    </tr>\n",
       "  </thead>\n",
       "  <tbody>\n",
       "    <tr>\n",
       "      <th>0</th>\n",
       "      <td>10</td>\n",
       "      <td>10</td>\n",
       "      <td>16.41135</td>\n",
       "      <td>NaN</td>\n",
       "      <td>NaN</td>\n",
       "    </tr>\n",
       "    <tr>\n",
       "      <th>1</th>\n",
       "      <td>20</td>\n",
       "      <td>20</td>\n",
       "      <td>14.41064</td>\n",
       "      <td>-2.00072</td>\n",
       "      <td>NaN</td>\n",
       "    </tr>\n",
       "    <tr>\n",
       "      <th>2</th>\n",
       "      <td>40</td>\n",
       "      <td>40</td>\n",
       "      <td>13.73674</td>\n",
       "      <td>-0.67390</td>\n",
       "      <td>1.56991</td>\n",
       "    </tr>\n",
       "    <tr>\n",
       "      <th>3</th>\n",
       "      <td>80</td>\n",
       "      <td>80</td>\n",
       "      <td>13.48023</td>\n",
       "      <td>-0.25651</td>\n",
       "      <td>1.39353</td>\n",
       "    </tr>\n",
       "    <tr>\n",
       "      <th>4</th>\n",
       "      <td>160</td>\n",
       "      <td>160</td>\n",
       "      <td>13.37090</td>\n",
       "      <td>-0.10933</td>\n",
       "      <td>1.23030</td>\n",
       "    </tr>\n",
       "    <tr>\n",
       "      <th>5</th>\n",
       "      <td>320</td>\n",
       "      <td>320</td>\n",
       "      <td>13.32079</td>\n",
       "      <td>-0.05011</td>\n",
       "      <td>1.12566</td>\n",
       "    </tr>\n",
       "  </tbody>\n",
       "</table>\n",
       "</div>"
      ],
      "text/plain": [
       "     I    N     U(s_)      e_k  order_alpha_k\n",
       "0   10   10  16.41135      NaN            NaN\n",
       "1   20   20  14.41064 -2.00072            NaN\n",
       "2   40   40  13.73674 -0.67390        1.56991\n",
       "3   80   80  13.48023 -0.25651        1.39353\n",
       "4  160  160  13.37090 -0.10933        1.23030\n",
       "5  320  320  13.32079 -0.05011        1.12566"
      ]
     },
     "execution_count": 71,
     "metadata": {},
     "output_type": "execute_result"
    }
   ],
   "source": [
    "values = [10, 20, 40, 80, 160, 320]\n",
    "s_ = 80\n",
    "hs = []\n",
    "\n",
    "dictionary = dic()\n",
    "dictionary['e_k'].append(None)\n",
    "dictionary['order_alpha_k'].extend([None, None])\n",
    "\n",
    "for i in range(len(values)):\n",
    "    N = I = values[i]\n",
    "    bs = BS(N=N, I=I)\n",
    "    U_s = P1(s_, bs, 'IE')\n",
    "    hs.append(bs.h)\n",
    "    dictionary['I'].append(I)\n",
    "    dictionary['N'].append(N)\n",
    "    dictionary['U(s_)'].append(U_s)\n",
    "    if i > 0:\n",
    "        dictionary['e_k'].append(dictionary['U(s_)'][i] -\n",
    "                                 dictionary['U(s_)'][i - 1])\n",
    "    if i > 1:\n",
    "        e_k_1, e_k = dictionary['e_k'][i - 1:i + 1]\n",
    "        h_k_1, h_k = hs[i - 1:i + 1]\n",
    "        dictionary['order_alpha_k'].append(\n",
    "            get_order_alpha(e_k_1, e_k, h_k_1, h_k))\n",
    "\n",
    "df = pd.DataFrame.from_dict(dictionary)\n",
    "df.round(5)"
   ]
  },
  {
   "cell_type": "markdown",
   "id": "dcd8c268",
   "metadata": {},
   "source": [
    "### N=I/10"
   ]
  },
  {
   "cell_type": "code",
   "execution_count": 72,
   "id": "1ec33b37",
   "metadata": {},
   "outputs": [
    {
     "data": {
      "text/html": [
       "<div>\n",
       "<style scoped>\n",
       "    .dataframe tbody tr th:only-of-type {\n",
       "        vertical-align: middle;\n",
       "    }\n",
       "\n",
       "    .dataframe tbody tr th {\n",
       "        vertical-align: top;\n",
       "    }\n",
       "\n",
       "    .dataframe thead th {\n",
       "        text-align: right;\n",
       "    }\n",
       "</style>\n",
       "<table border=\"1\" class=\"dataframe\">\n",
       "  <thead>\n",
       "    <tr style=\"text-align: right;\">\n",
       "      <th></th>\n",
       "      <th>I</th>\n",
       "      <th>N</th>\n",
       "      <th>U(s_)</th>\n",
       "      <th>e_k</th>\n",
       "      <th>order_alpha_k</th>\n",
       "    </tr>\n",
       "  </thead>\n",
       "  <tbody>\n",
       "    <tr>\n",
       "      <th>0</th>\n",
       "      <td>10</td>\n",
       "      <td>1</td>\n",
       "      <td>17.06841</td>\n",
       "      <td>NaN</td>\n",
       "      <td>NaN</td>\n",
       "    </tr>\n",
       "    <tr>\n",
       "      <th>1</th>\n",
       "      <td>20</td>\n",
       "      <td>2</td>\n",
       "      <td>14.91661</td>\n",
       "      <td>-2.15180</td>\n",
       "      <td>NaN</td>\n",
       "    </tr>\n",
       "    <tr>\n",
       "      <th>2</th>\n",
       "      <td>40</td>\n",
       "      <td>4</td>\n",
       "      <td>14.02212</td>\n",
       "      <td>-0.89449</td>\n",
       "      <td>1.26640</td>\n",
       "    </tr>\n",
       "    <tr>\n",
       "      <th>3</th>\n",
       "      <td>80</td>\n",
       "      <td>8</td>\n",
       "      <td>13.62726</td>\n",
       "      <td>-0.39486</td>\n",
       "      <td>1.17972</td>\n",
       "    </tr>\n",
       "    <tr>\n",
       "      <th>4</th>\n",
       "      <td>160</td>\n",
       "      <td>16</td>\n",
       "      <td>13.44501</td>\n",
       "      <td>-0.18225</td>\n",
       "      <td>1.11543</td>\n",
       "    </tr>\n",
       "    <tr>\n",
       "      <th>5</th>\n",
       "      <td>320</td>\n",
       "      <td>32</td>\n",
       "      <td>13.35794</td>\n",
       "      <td>-0.08706</td>\n",
       "      <td>1.06581</td>\n",
       "    </tr>\n",
       "  </tbody>\n",
       "</table>\n",
       "</div>"
      ],
      "text/plain": [
       "     I   N     U(s_)      e_k  order_alpha_k\n",
       "0   10   1  17.06841      NaN            NaN\n",
       "1   20   2  14.91661 -2.15180            NaN\n",
       "2   40   4  14.02212 -0.89449        1.26640\n",
       "3   80   8  13.62726 -0.39486        1.17972\n",
       "4  160  16  13.44501 -0.18225        1.11543\n",
       "5  320  32  13.35794 -0.08706        1.06581"
      ]
     },
     "execution_count": 72,
     "metadata": {},
     "output_type": "execute_result"
    }
   ],
   "source": [
    "Is = [10, 20, 40, 80, 160, 320]\n",
    "s_ = 80\n",
    "hs = []\n",
    "\n",
    "dictionary = dic()\n",
    "dictionary['e_k'].append(None)\n",
    "dictionary['order_alpha_k'].extend([None, None])\n",
    "\n",
    "for i in range(len(Is)):\n",
    "    I = Is[i]\n",
    "    N = I // 10\n",
    "    bs = BS(N=N, I=I)\n",
    "    U_s = P1(s_, bs, 'IE')\n",
    "    hs.append(bs.h)\n",
    "    dictionary['I'].append(I)\n",
    "    dictionary['N'].append(N)\n",
    "    dictionary['U(s_)'].append(U_s)\n",
    "    if i > 0:\n",
    "        dictionary['e_k'].append(dictionary['U(s_)'][i] -\n",
    "                                 dictionary['U(s_)'][i - 1])\n",
    "    if i > 1:\n",
    "        e_k_1, e_k = dictionary['e_k'][i - 1:i + 1]\n",
    "        h_k_1, h_k = hs[i - 1:i + 1]\n",
    "        dictionary['order_alpha_k'].append(\n",
    "            get_order_alpha(e_k_1, e_k, h_k_1, h_k))\n",
    "\n",
    "df = pd.DataFrame.from_dict(dictionary)\n",
    "df.round(5)"
   ]
  },
  {
   "cell_type": "markdown",
   "id": "8223d987",
   "metadata": {},
   "source": [
    "# Crank-Nicolson scheme"
   ]
  },
  {
   "cell_type": "markdown",
   "id": "04f8a75e",
   "metadata": {},
   "source": [
    "## a) Program the Crank-Nicolson scheme (CN)"
   ]
  },
  {
   "cell_type": "markdown",
   "id": "77be8b58",
   "metadata": {},
   "source": [
    "$$(\\frac{A}{2}+\\frac{Id}{dt})*U^{n+1} = (\\frac{-A}{2}+\\frac{Id}{dt})*U^n-q_n$$"
   ]
  },
  {
   "cell_type": "code",
   "execution_count": 73,
   "id": "8e63d978",
   "metadata": {},
   "outputs": [
    {
     "data": {
      "image/png": "[encoded data removed]",
      "text/plain": [
       "<Figure size 720x720 with 4 Axes>"
      ]
     },
     "metadata": {
      "needs_background": "light"
     },
     "output_type": "display_data"
    }
   ],
   "source": [
    "  Is = [10, 20, 50, 100]\n",
    "  N = 10\n",
    "  \n",
    "  plt.figure(figsize=(10, 10))\n",
    "  for i in range(len(Is)):\n",
    "    plt.subplot(2,2,i+1)\n",
    "    I = Is[i]\n",
    "    plot('CN', I, N)"
   ]
  },
  {
   "cell_type": "markdown",
   "id": "fea5977f",
   "metadata": {},
   "source": [
    "## b) Draw the corresponding table with N = I and N = I/10"
   ]
  },
  {
   "cell_type": "markdown",
   "id": "79239ab4",
   "metadata": {},
   "source": [
    "### N=I"
   ]
  },
  {
   "cell_type": "code",
   "execution_count": 74,
   "id": "ceef4785",
   "metadata": {},
   "outputs": [
    {
     "data": {
      "text/html": [
       "<div>\n",
       "<style scoped>\n",
       "    .dataframe tbody tr th:only-of-type {\n",
       "        vertical-align: middle;\n",
       "    }\n",
       "\n",
       "    .dataframe tbody tr th {\n",
       "        vertical-align: top;\n",
       "    }\n",
       "\n",
       "    .dataframe thead th {\n",
       "        text-align: right;\n",
       "    }\n",
       "</style>\n",
       "<table border=\"1\" class=\"dataframe\">\n",
       "  <thead>\n",
       "    <tr style=\"text-align: right;\">\n",
       "      <th></th>\n",
       "      <th>I</th>\n",
       "      <th>N</th>\n",
       "      <th>U(s_)</th>\n",
       "      <th>e_k</th>\n",
       "      <th>order_alpha_k</th>\n",
       "    </tr>\n",
       "  </thead>\n",
       "  <tbody>\n",
       "    <tr>\n",
       "      <th>0</th>\n",
       "      <td>10</td>\n",
       "      <td>10</td>\n",
       "      <td>16.31950</td>\n",
       "      <td>NaN</td>\n",
       "      <td>NaN</td>\n",
       "    </tr>\n",
       "    <tr>\n",
       "      <th>1</th>\n",
       "      <td>20</td>\n",
       "      <td>20</td>\n",
       "      <td>14.34665</td>\n",
       "      <td>-1.97285</td>\n",
       "      <td>NaN</td>\n",
       "    </tr>\n",
       "    <tr>\n",
       "      <th>2</th>\n",
       "      <td>40</td>\n",
       "      <td>40</td>\n",
       "      <td>13.70345</td>\n",
       "      <td>-0.64320</td>\n",
       "      <td>1.61694</td>\n",
       "    </tr>\n",
       "    <tr>\n",
       "      <th>3</th>\n",
       "      <td>80</td>\n",
       "      <td>80</td>\n",
       "      <td>13.46360</td>\n",
       "      <td>-0.23986</td>\n",
       "      <td>1.42311</td>\n",
       "    </tr>\n",
       "    <tr>\n",
       "      <th>4</th>\n",
       "      <td>160</td>\n",
       "      <td>160</td>\n",
       "      <td>13.36260</td>\n",
       "      <td>-0.10100</td>\n",
       "      <td>1.24786</td>\n",
       "    </tr>\n",
       "    <tr>\n",
       "      <th>5</th>\n",
       "      <td>320</td>\n",
       "      <td>320</td>\n",
       "      <td>13.31665</td>\n",
       "      <td>-0.04595</td>\n",
       "      <td>1.13613</td>\n",
       "    </tr>\n",
       "  </tbody>\n",
       "</table>\n",
       "</div>"
      ],
      "text/plain": [
       "     I    N     U(s_)      e_k  order_alpha_k\n",
       "0   10   10  16.31950      NaN            NaN\n",
       "1   20   20  14.34665 -1.97285            NaN\n",
       "2   40   40  13.70345 -0.64320        1.61694\n",
       "3   80   80  13.46360 -0.23986        1.42311\n",
       "4  160  160  13.36260 -0.10100        1.24786\n",
       "5  320  320  13.31665 -0.04595        1.13613"
      ]
     },
     "execution_count": 74,
     "metadata": {},
     "output_type": "execute_result"
    }
   ],
   "source": [
    "values = [10, 20, 40, 80, 160, 320]\n",
    "s_ = 80\n",
    "hs = []\n",
    "\n",
    "dictionary = dic()\n",
    "dictionary['e_k'].append(None)\n",
    "dictionary['order_alpha_k'].extend([None, None])\n",
    "\n",
    "for i in range(len(values)):\n",
    "    N = I = values[i]\n",
    "    bs = BS(N=N, I=I)\n",
    "    U_s = P1(s_, bs, 'CN')\n",
    "    hs.append(bs.h)\n",
    "    dictionary['I'].append(I)\n",
    "    dictionary['N'].append(N)\n",
    "    dictionary['U(s_)'].append(U_s)\n",
    "    if i > 0:\n",
    "        dictionary['e_k'].append(dictionary['U(s_)'][i] -\n",
    "                                 dictionary['U(s_)'][i - 1])\n",
    "    if i > 1:\n",
    "        e_k_1, e_k = dictionary['e_k'][i - 1:i + 1]\n",
    "        h_k_1, h_k = hs[i - 1:i + 1]\n",
    "        dictionary['order_alpha_k'].append(\n",
    "            get_order_alpha(e_k_1, e_k, h_k_1, h_k))\n",
    "\n",
    "df = pd.DataFrame.from_dict(dictionary)\n",
    "df.round(5)"
   ]
  },
  {
   "cell_type": "markdown",
   "id": "aaf1ee07",
   "metadata": {},
   "source": [
    "### N=I/10"
   ]
  },
  {
   "cell_type": "code",
   "execution_count": 75,
   "id": "10ed8e52",
   "metadata": {},
   "outputs": [
    {
     "data": {
      "text/html": [
       "<div>\n",
       "<style scoped>\n",
       "    .dataframe tbody tr th:only-of-type {\n",
       "        vertical-align: middle;\n",
       "    }\n",
       "\n",
       "    .dataframe tbody tr th {\n",
       "        vertical-align: top;\n",
       "    }\n",
       "\n",
       "    .dataframe thead th {\n",
       "        text-align: right;\n",
       "    }\n",
       "</style>\n",
       "<table border=\"1\" class=\"dataframe\">\n",
       "  <thead>\n",
       "    <tr style=\"text-align: right;\">\n",
       "      <th></th>\n",
       "      <th>I</th>\n",
       "      <th>N</th>\n",
       "      <th>U(s_)</th>\n",
       "      <th>e_k</th>\n",
       "      <th>order_alpha_k</th>\n",
       "    </tr>\n",
       "  </thead>\n",
       "  <tbody>\n",
       "    <tr>\n",
       "      <th>0</th>\n",
       "      <td>10</td>\n",
       "      <td>1</td>\n",
       "      <td>16.19530</td>\n",
       "      <td>NaN</td>\n",
       "      <td>NaN</td>\n",
       "    </tr>\n",
       "    <tr>\n",
       "      <th>1</th>\n",
       "      <td>20</td>\n",
       "      <td>2</td>\n",
       "      <td>14.27457</td>\n",
       "      <td>-1.92073</td>\n",
       "      <td>NaN</td>\n",
       "    </tr>\n",
       "    <tr>\n",
       "      <th>2</th>\n",
       "      <td>40</td>\n",
       "      <td>4</td>\n",
       "      <td>13.68480</td>\n",
       "      <td>-0.58977</td>\n",
       "      <td>1.70342</td>\n",
       "    </tr>\n",
       "    <tr>\n",
       "      <th>3</th>\n",
       "      <td>80</td>\n",
       "      <td>8</td>\n",
       "      <td>13.45838</td>\n",
       "      <td>-0.22642</td>\n",
       "      <td>1.38118</td>\n",
       "    </tr>\n",
       "    <tr>\n",
       "      <th>4</th>\n",
       "      <td>160</td>\n",
       "      <td>16</td>\n",
       "      <td>13.36130</td>\n",
       "      <td>-0.09708</td>\n",
       "      <td>1.22166</td>\n",
       "    </tr>\n",
       "    <tr>\n",
       "      <th>5</th>\n",
       "      <td>320</td>\n",
       "      <td>32</td>\n",
       "      <td>13.31632</td>\n",
       "      <td>-0.04497</td>\n",
       "      <td>1.11019</td>\n",
       "    </tr>\n",
       "  </tbody>\n",
       "</table>\n",
       "</div>"
      ],
      "text/plain": [
       "     I   N     U(s_)      e_k  order_alpha_k\n",
       "0   10   1  16.19530      NaN            NaN\n",
       "1   20   2  14.27457 -1.92073            NaN\n",
       "2   40   4  13.68480 -0.58977        1.70342\n",
       "3   80   8  13.45838 -0.22642        1.38118\n",
       "4  160  16  13.36130 -0.09708        1.22166\n",
       "5  320  32  13.31632 -0.04497        1.11019"
      ]
     },
     "execution_count": 75,
     "metadata": {},
     "output_type": "execute_result"
    }
   ],
   "source": [
    "Is = [10, 20, 40, 80, 160, 320]\n",
    "s_ = 80\n",
    "hs = []\n",
    "\n",
    "dictionary = dic()\n",
    "dictionary['e_k'].append(None)\n",
    "dictionary['order_alpha_k'].extend([None, None])\n",
    "\n",
    "for i in range(len(Is)):\n",
    "    I = Is[i]\n",
    "    N = I // 10\n",
    "    bs = BS(N=N, I=I)\n",
    "    U_s = P1(s_, bs, 'CN')\n",
    "    hs.append(bs.h)\n",
    "    dictionary['I'].append(I)\n",
    "    dictionary['N'].append(N)\n",
    "    dictionary['U(s_)'].append(U_s)\n",
    "    if i > 0:\n",
    "        dictionary['e_k'].append(dictionary['U(s_)'][i] -\n",
    "                                 dictionary['U(s_)'][i - 1])\n",
    "    if i > 1:\n",
    "        e_k_1, e_k = dictionary['e_k'][i - 1:i + 1]\n",
    "        h_k_1, h_k = hs[i - 1:i + 1]\n",
    "        dictionary['order_alpha_k'].append(\n",
    "            get_order_alpha(e_k_1, e_k, h_k_1, h_k))\n",
    "\n",
    "df = pd.DataFrame.from_dict(dictionary)\n",
    "df.round(5)"
   ]
  },
  {
   "cell_type": "markdown",
   "id": "3d4f1e63",
   "metadata": {},
   "source": [
    "# Conclusion on numerical tests. "
   ]
  },
  {
   "cell_type": "markdown",
   "id": "42deb01a",
   "metadata": {},
   "source": [
    "We observe that with the same discretization, the Crank-Nicolson scheme can give the most accurate result and implicit schema is better than explicit schema, which is coherent with the theoretical analysis. "
   ]
  },
  {
   "cell_type": "markdown",
   "id": "880b171c",
   "metadata": {},
   "source": [
    "# Complement 1: program the sparse matrices"
   ]
  },
  {
   "cell_type": "code",
   "execution_count": 76,
   "id": "460a7605",
   "metadata": {},
   "outputs": [],
   "source": [
    "class BS_sparse:\n",
    "    def __init__(self,\n",
    "                 K=100,\n",
    "                 S_min=0,\n",
    "                 S_max=200,\n",
    "                 T=1,\n",
    "                 sigma=0.2,\n",
    "                 r=0.1,\n",
    "                 N=10,\n",
    "                 I=10):\n",
    "        self.K = K\n",
    "        self.S_min = S_min\n",
    "        self.S_max = S_max\n",
    "        self.T = T\n",
    "        self.sigma = sigma\n",
    "        self.r = r\n",
    "        self.N = N\n",
    "        self.I = I\n",
    "\n",
    "        self.h = (S_max - S_min) / I\n",
    "        self.dt = T / N\n",
    "\n",
    "        self.S = np.linspace(S_min, S_max, I).reshape(-1, 1)\n",
    "        self.Sval = np.mean(self.S)\n",
    "        self.alpha = sigma**2 * self.S**2 / (2 * self.h**2)\n",
    "        self.beta = r * self.S / (2 * self.h)\n",
    "\n",
    "    def get_A(self) -> np.ndarray:\n",
    "        I = self.I\n",
    "        A = np.zeros((I, I))\n",
    "        for i in range(I):\n",
    "            A[i][i] = float(2 * self.alpha[i] + self.r)\n",
    "\n",
    "        for i in range(I - 1):\n",
    "            A[i + 1][i] = float(-self.alpha[i + 1] + self.beta[i + 1])\n",
    "            A[i][i + 1] = float(-self.alpha[i] - self.beta[i])\n",
    "\n",
    "        return sparse(A)\n",
    "\n",
    "    # Boundary condition\n",
    "    def phi(self) -> np.ndarray:\n",
    "        return np.maximum(self.K - self.S, 0).reshape(self.I, 1)\n",
    "\n",
    "    def uleft(self, U: np.ndarray) -> float:\n",
    "        return (-self.alpha[0] + self.beta[0]) * U[0]\n",
    "\n",
    "    def uright(self, U: np.ndarray) -> float:\n",
    "        return (-self.alpha[-1] - self.beta[-1]) * U[-1]\n",
    "\n",
    "    def get_price(self, method: str) -> np.ndarray:\n",
    "        U = np.array(self.phi()).reshape(-1, 1)\n",
    "        q = np.zeros((self.I, 1))\n",
    "        A = self.get_A()\n",
    "\n",
    "        for t in range(self.N):\n",
    "            q[0] = self.uleft(U)\n",
    "            q[-1] = self.uright(U)\n",
    "            if method == 'EE':\n",
    "                U = (np.eye(self.I) - self.dt * A) @ U - self.dt * q\n",
    "            if method == 'IE':\n",
    "                Id = sparse(np.eye(self.I))\n",
    "                U = spsolve(A + Id / self.dt, Id / self.dt @ U - q)\n",
    "                U = U.reshape(I, 1)\n",
    "            if method == 'CN':\n",
    "                Id = sparse(np.eye(self.I))\n",
    "                U = spsolve(A / 2 + Id / self.dt,\n",
    "                            (-A / 2 + Id / self.dt) @ U - q)\n",
    "                U = U.reshape(I, 1)\n",
    "        return U"
   ]
  },
  {
   "cell_type": "code",
   "execution_count": 77,
   "id": "ddd11eea",
   "metadata": {},
   "outputs": [
    {
     "name": "stdout",
     "output_type": "stream",
     "text": [
      "tcpu for EE =  0.78\n",
      "tcpu for EE sparse =  0.79\n",
      "tcpu for IE =  4.11\n",
      "tcpu for IE sparse =  1.17\n",
      "tcpu for CN =  5.00\n",
      "tcpu for CN sparse =  1.85\n"
     ]
    }
   ],
   "source": [
    "I, N = 1000, 100\n",
    "bs = BS(I=I, N=N)\n",
    "bs_sparse = BS_sparse(I=I, N=N)\n",
    "\n",
    "# EE\n",
    "t0_EE = time.time()\n",
    "bs.get_price('EE')\n",
    "t1_EE = time.time()\n",
    "\n",
    "t0_EE_sparse = time.time()\n",
    "bs_sparse.get_price('EE')\n",
    "t1_EE_sparse = time.time()\n",
    "\n",
    "# IE\n",
    "t0_IE = time.time()\n",
    "bs.get_price('IE')\n",
    "t1_IE = time.time()\n",
    "\n",
    "t0_IE_sparse = time.time()\n",
    "bs_sparse.get_price('IE')\n",
    "t1_IE_sparse = time.time()\n",
    "\n",
    "# CN\n",
    "t0_CN = time.time()\n",
    "bs.get_price('CN')\n",
    "t1_CN = time.time()\n",
    "\n",
    "t0_CN_sparse = time.time()\n",
    "bs_sparse.get_price('CN')\n",
    "t1_CN_sparse = time.time()\n",
    "\n",
    "print('tcpu for EE = %5.2f' % (t1_EE - t0_EE))\n",
    "print('tcpu for EE sparse = %5.2f' % (t1_EE_sparse - t0_EE_sparse))\n",
    "print('tcpu for IE = %5.2f' % (t1_IE - t0_IE))\n",
    "print('tcpu for IE sparse = %5.2f' % (t1_IE_sparse - t0_IE_sparse))\n",
    "print('tcpu for CN = %5.2f' % (t1_CN - t0_CN))\n",
    "print('tcpu for CN sparse = %5.2f' % (t1_CN_sparse - t0_CN_sparse))\n"
   ]
  },
  {
   "cell_type": "markdown",
   "id": "80a2b17c",
   "metadata": {},
   "source": [
    "By using the sparse matrix, we see that the computation time has been significantly reduced for IE and CN methods.\n",
    "However, since we don't need solve linear equation for EE method, sparse matrix can not improve the performance.\n"
   ]
  },
  {
   "cell_type": "markdown",
   "id": "8ee96079",
   "metadata": {},
   "source": [
    "# Complement 2: program the Black and Scholes formula "
   ]
  },
  {
   "cell_type": "code",
   "execution_count": 78,
   "id": "04f212cb",
   "metadata": {},
   "outputs": [],
   "source": [
    "def get_d1(S, K, sigma, r, t):\n",
    "    return (np.log(S / K) + (r + sigma**2 / 2) * t) / np.sqrt(sigma**2 * t)\n",
    "\n",
    "\n",
    "def BS_theo(S, K, sigma, r, t):\n",
    "    d1 = get_d1(S, K, sigma, r, t)\n",
    "    d2 = d1 - sigma * np.sqrt(t)\n",
    "    return K * np.exp(-r * t) * norm.cdf(-d2) - S * norm.cdf(-d1)\n"
   ]
  },
  {
   "cell_type": "markdown",
   "id": "9cea32ba",
   "metadata": {},
   "source": [
    "## EE"
   ]
  },
  {
   "cell_type": "code",
   "execution_count": 79,
   "id": "d908c297",
   "metadata": {},
   "outputs": [
    {
     "data": {
      "text/html": [
       "<div>\n",
       "<style scoped>\n",
       "    .dataframe tbody tr th:only-of-type {\n",
       "        vertical-align: middle;\n",
       "    }\n",
       "\n",
       "    .dataframe tbody tr th {\n",
       "        vertical-align: top;\n",
       "    }\n",
       "\n",
       "    .dataframe thead th {\n",
       "        text-align: right;\n",
       "    }\n",
       "</style>\n",
       "<table border=\"1\" class=\"dataframe\">\n",
       "  <thead>\n",
       "    <tr style=\"text-align: right;\">\n",
       "      <th></th>\n",
       "      <th>I</th>\n",
       "      <th>N</th>\n",
       "      <th>U(s_)</th>\n",
       "      <th>e_k</th>\n",
       "      <th>order_alpha_k</th>\n",
       "    </tr>\n",
       "  </thead>\n",
       "  <tbody>\n",
       "    <tr>\n",
       "      <th>0</th>\n",
       "      <td>10</td>\n",
       "      <td>10</td>\n",
       "      <td>16.22489</td>\n",
       "      <td>2.95123</td>\n",
       "      <td>NaN</td>\n",
       "    </tr>\n",
       "    <tr>\n",
       "      <th>1</th>\n",
       "      <td>20</td>\n",
       "      <td>40</td>\n",
       "      <td>14.31518</td>\n",
       "      <td>1.04151</td>\n",
       "      <td>1.50263</td>\n",
       "    </tr>\n",
       "    <tr>\n",
       "      <th>2</th>\n",
       "      <td>40</td>\n",
       "      <td>160</td>\n",
       "      <td>13.69536</td>\n",
       "      <td>0.42170</td>\n",
       "      <td>1.30441</td>\n",
       "    </tr>\n",
       "    <tr>\n",
       "      <th>3</th>\n",
       "      <td>80</td>\n",
       "      <td>640</td>\n",
       "      <td>13.46157</td>\n",
       "      <td>0.18791</td>\n",
       "      <td>1.16615</td>\n",
       "    </tr>\n",
       "    <tr>\n",
       "      <th>4</th>\n",
       "      <td>160</td>\n",
       "      <td>2560</td>\n",
       "      <td>13.36210</td>\n",
       "      <td>0.08843</td>\n",
       "      <td>1.08741</td>\n",
       "    </tr>\n",
       "    <tr>\n",
       "      <th>5</th>\n",
       "      <td>320</td>\n",
       "      <td>10240</td>\n",
       "      <td>13.31652</td>\n",
       "      <td>0.04286</td>\n",
       "      <td>1.04495</td>\n",
       "    </tr>\n",
       "  </tbody>\n",
       "</table>\n",
       "</div>"
      ],
      "text/plain": [
       "     I      N     U(s_)      e_k  order_alpha_k\n",
       "0   10     10  16.22489  2.95123            NaN\n",
       "1   20     40  14.31518  1.04151        1.50263\n",
       "2   40    160  13.69536  0.42170        1.30441\n",
       "3   80    640  13.46157  0.18791        1.16615\n",
       "4  160   2560  13.36210  0.08843        1.08741\n",
       "5  320  10240  13.31652  0.04286        1.04495"
      ]
     },
     "execution_count": 79,
     "metadata": {},
     "output_type": "execute_result"
    }
   ],
   "source": [
    "Is = [10, 20, 40, 80, 160, 320]\n",
    "s_ = 80\n",
    "hs = []\n",
    "\n",
    "dictionary = dic()\n",
    "dictionary['order_alpha_k'].append(None)\n",
    "\n",
    "for i in range(len(Is)):\n",
    "    I = Is[i]\n",
    "    N = I**2 // 10\n",
    "    bs = BS(N=N, I=I)\n",
    "    U_s = P1(s_, bs, 'EE')\n",
    "    hs.append(bs.h)\n",
    "    dictionary['I'].append(I)\n",
    "    dictionary['N'].append(N)\n",
    "    dictionary['U(s_)'].append(U_s)\n",
    "    dictionary['e_k'].append(dictionary['U(s_)'][i] -\n",
    "                             BS_theo(s_, bs.K, bs.sigma, bs.r, bs.T))\n",
    "    if i > 0:\n",
    "        e_k_1, e_k = dictionary['e_k'][i - 1:i + 1]\n",
    "        h_k_1, h_k = hs[i - 1:i + 1]\n",
    "        dictionary['order_alpha_k'].append(\n",
    "            get_order_alpha(e_k_1, e_k, h_k_1, h_k))\n",
    "\n",
    "df = pd.DataFrame.from_dict(dictionary)\n",
    "df.round(5)"
   ]
  },
  {
   "cell_type": "markdown",
   "id": "73388300",
   "metadata": {},
   "source": [
    "## IE"
   ]
  },
  {
   "cell_type": "code",
   "execution_count": 80,
   "id": "47d6dd89",
   "metadata": {},
   "outputs": [
    {
     "data": {
      "text/html": [
       "<div>\n",
       "<style scoped>\n",
       "    .dataframe tbody tr th:only-of-type {\n",
       "        vertical-align: middle;\n",
       "    }\n",
       "\n",
       "    .dataframe tbody tr th {\n",
       "        vertical-align: top;\n",
       "    }\n",
       "\n",
       "    .dataframe thead th {\n",
       "        text-align: right;\n",
       "    }\n",
       "</style>\n",
       "<table border=\"1\" class=\"dataframe\">\n",
       "  <thead>\n",
       "    <tr style=\"text-align: right;\">\n",
       "      <th></th>\n",
       "      <th>I</th>\n",
       "      <th>N</th>\n",
       "      <th>U(s_)</th>\n",
       "      <th>e_k</th>\n",
       "      <th>order_alpha_k</th>\n",
       "    </tr>\n",
       "  </thead>\n",
       "  <tbody>\n",
       "    <tr>\n",
       "      <th>0</th>\n",
       "      <td>10</td>\n",
       "      <td>10</td>\n",
       "      <td>16.41135</td>\n",
       "      <td>3.13769</td>\n",
       "      <td>NaN</td>\n",
       "    </tr>\n",
       "    <tr>\n",
       "      <th>1</th>\n",
       "      <td>20</td>\n",
       "      <td>20</td>\n",
       "      <td>14.41064</td>\n",
       "      <td>1.13697</td>\n",
       "      <td>1.46451</td>\n",
       "    </tr>\n",
       "    <tr>\n",
       "      <th>2</th>\n",
       "      <td>40</td>\n",
       "      <td>40</td>\n",
       "      <td>13.73674</td>\n",
       "      <td>0.46307</td>\n",
       "      <td>1.29588</td>\n",
       "    </tr>\n",
       "    <tr>\n",
       "      <th>3</th>\n",
       "      <td>80</td>\n",
       "      <td>80</td>\n",
       "      <td>13.48023</td>\n",
       "      <td>0.20657</td>\n",
       "      <td>1.16464</td>\n",
       "    </tr>\n",
       "    <tr>\n",
       "      <th>4</th>\n",
       "      <td>160</td>\n",
       "      <td>160</td>\n",
       "      <td>13.37090</td>\n",
       "      <td>0.09723</td>\n",
       "      <td>1.08706</td>\n",
       "    </tr>\n",
       "    <tr>\n",
       "      <th>5</th>\n",
       "      <td>320</td>\n",
       "      <td>320</td>\n",
       "      <td>13.32079</td>\n",
       "      <td>0.04713</td>\n",
       "      <td>1.04486</td>\n",
       "    </tr>\n",
       "  </tbody>\n",
       "</table>\n",
       "</div>"
      ],
      "text/plain": [
       "     I    N     U(s_)      e_k  order_alpha_k\n",
       "0   10   10  16.41135  3.13769            NaN\n",
       "1   20   20  14.41064  1.13697        1.46451\n",
       "2   40   40  13.73674  0.46307        1.29588\n",
       "3   80   80  13.48023  0.20657        1.16464\n",
       "4  160  160  13.37090  0.09723        1.08706\n",
       "5  320  320  13.32079  0.04713        1.04486"
      ]
     },
     "execution_count": 80,
     "metadata": {},
     "output_type": "execute_result"
    }
   ],
   "source": [
    "values = [10, 20, 40, 80, 160, 320]\n",
    "s_ = 80\n",
    "hs = []\n",
    "\n",
    "dictionary = dic()\n",
    "dictionary['order_alpha_k'].append(None)\n",
    "\n",
    "for i in range(len(values)):\n",
    "    N = I = values[i]\n",
    "    bs = BS(N=N, I=I)\n",
    "    U_s = P1(s_, bs, 'IE')\n",
    "    hs.append(bs.h)\n",
    "    dictionary['I'].append(I)\n",
    "    dictionary['N'].append(N)\n",
    "    dictionary['U(s_)'].append(U_s)\n",
    "    dictionary['e_k'].append(dictionary['U(s_)'][i] -\n",
    "                             BS_theo(s_, bs.K, bs.sigma, bs.r, bs.T))\n",
    "    if i > 0:\n",
    "        e_k_1, e_k = dictionary['e_k'][i - 1:i + 1]\n",
    "        h_k_1, h_k = hs[i - 1:i + 1]\n",
    "        dictionary['order_alpha_k'].append(\n",
    "            get_order_alpha(e_k_1, e_k, h_k_1, h_k))\n",
    "\n",
    "df = pd.DataFrame.from_dict(dictionary)\n",
    "df.round(5)"
   ]
  },
  {
   "cell_type": "markdown",
   "id": "d7afa46c",
   "metadata": {},
   "source": [
    "## CN"
   ]
  },
  {
   "cell_type": "code",
   "execution_count": 81,
   "id": "f08285e6",
   "metadata": {},
   "outputs": [
    {
     "data": {
      "text/html": [
       "<div>\n",
       "<style scoped>\n",
       "    .dataframe tbody tr th:only-of-type {\n",
       "        vertical-align: middle;\n",
       "    }\n",
       "\n",
       "    .dataframe tbody tr th {\n",
       "        vertical-align: top;\n",
       "    }\n",
       "\n",
       "    .dataframe thead th {\n",
       "        text-align: right;\n",
       "    }\n",
       "</style>\n",
       "<table border=\"1\" class=\"dataframe\">\n",
       "  <thead>\n",
       "    <tr style=\"text-align: right;\">\n",
       "      <th></th>\n",
       "      <th>I</th>\n",
       "      <th>N</th>\n",
       "      <th>U(s_)</th>\n",
       "      <th>e_k</th>\n",
       "      <th>order_alpha_k</th>\n",
       "    </tr>\n",
       "  </thead>\n",
       "  <tbody>\n",
       "    <tr>\n",
       "      <th>0</th>\n",
       "      <td>10</td>\n",
       "      <td>10</td>\n",
       "      <td>16.31950</td>\n",
       "      <td>3.04584</td>\n",
       "      <td>NaN</td>\n",
       "    </tr>\n",
       "    <tr>\n",
       "      <th>1</th>\n",
       "      <td>20</td>\n",
       "      <td>20</td>\n",
       "      <td>14.34665</td>\n",
       "      <td>1.07299</td>\n",
       "      <td>1.50520</td>\n",
       "    </tr>\n",
       "    <tr>\n",
       "      <th>2</th>\n",
       "      <td>40</td>\n",
       "      <td>40</td>\n",
       "      <td>13.70345</td>\n",
       "      <td>0.42979</td>\n",
       "      <td>1.31994</td>\n",
       "    </tr>\n",
       "    <tr>\n",
       "      <th>3</th>\n",
       "      <td>80</td>\n",
       "      <td>80</td>\n",
       "      <td>13.46360</td>\n",
       "      <td>0.18993</td>\n",
       "      <td>1.17813</td>\n",
       "    </tr>\n",
       "    <tr>\n",
       "      <th>4</th>\n",
       "      <td>160</td>\n",
       "      <td>160</td>\n",
       "      <td>13.36260</td>\n",
       "      <td>0.08894</td>\n",
       "      <td>1.09464</td>\n",
       "    </tr>\n",
       "    <tr>\n",
       "      <th>5</th>\n",
       "      <td>320</td>\n",
       "      <td>320</td>\n",
       "      <td>13.31665</td>\n",
       "      <td>0.04299</td>\n",
       "      <td>1.04892</td>\n",
       "    </tr>\n",
       "  </tbody>\n",
       "</table>\n",
       "</div>"
      ],
      "text/plain": [
       "     I    N     U(s_)      e_k  order_alpha_k\n",
       "0   10   10  16.31950  3.04584            NaN\n",
       "1   20   20  14.34665  1.07299        1.50520\n",
       "2   40   40  13.70345  0.42979        1.31994\n",
       "3   80   80  13.46360  0.18993        1.17813\n",
       "4  160  160  13.36260  0.08894        1.09464\n",
       "5  320  320  13.31665  0.04299        1.04892"
      ]
     },
     "execution_count": 81,
     "metadata": {},
     "output_type": "execute_result"
    }
   ],
   "source": [
    "values = [10, 20, 40, 80, 160, 320]\n",
    "s_ = 80\n",
    "hs = []\n",
    "\n",
    "dictionary = dic()\n",
    "dictionary['order_alpha_k'].append(None)\n",
    "\n",
    "for i in range(len(values)):\n",
    "    N = I = values[i]\n",
    "    bs = BS(N=N, I=I)\n",
    "    U_s = P1(s_, bs, 'CN')\n",
    "    hs.append(bs.h)\n",
    "    dictionary['I'].append(I)\n",
    "    dictionary['N'].append(N)\n",
    "    dictionary['U(s_)'].append(U_s)\n",
    "    dictionary['e_k'].append(dictionary['U(s_)'][i] -\n",
    "                             BS_theo(s_, bs.K, bs.sigma, bs.r, bs.T))\n",
    "    if i > 0:\n",
    "        e_k_1, e_k = dictionary['e_k'][i - 1:i + 1]\n",
    "        h_k_1, h_k = hs[i - 1:i + 1]\n",
    "        dictionary['order_alpha_k'].append(\n",
    "            get_order_alpha(e_k_1, e_k, h_k_1, h_k))\n",
    "\n",
    "df = pd.DataFrame.from_dict(dictionary)\n",
    "df.round(5)"
   ]
  },
  {
   "cell_type": "code",
   "execution_count": null,
   "id": "210f205f",
   "metadata": {},
   "outputs": [],
   "source": []
  }
 ],
 "metadata": {
  "kernelspec": {
   "display_name": "Python 3",
   "language": "python",
   "name": "python3"
  },
  "language_info": {
   "codemirror_mode": {
    "name": "ipython",
    "version": 3
   },
   "file_extension": ".py",
   "mimetype": "text/x-python",
   "name": "python",
   "nbconvert_exporter": "python",
   "pygments_lexer": "ipython3",
   "version": "3.9.0"
  },
  "toc": {
   "base_numbering": 1,
   "nav_menu": {},
   "number_sections": true,
   "sideBar": true,
   "skip_h1_title": false,
   "title_cell": "Table of Contents",
   "title_sidebar": "Contents",
   "toc_cell": false,
   "toc_position": {},
   "toc_section_display": true,
   "toc_window_display": false
  }
 },
 "nbformat": 4,
 "nbformat_minor": 5
}
